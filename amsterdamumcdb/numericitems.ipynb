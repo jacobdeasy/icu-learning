{
 "metadata": {
  "language_info": {
   "codemirror_mode": {
    "name": "ipython",
    "version": 3
   },
   "file_extension": ".py",
   "mimetype": "text/x-python",
   "name": "python",
   "nbconvert_exporter": "python",
   "pygments_lexer": "ipython3",
   "version": "3.7.7-final"
  },
  "orig_nbformat": 2,
  "kernelspec": {
   "name": "python37764bit300a028a89174507b581fdf390bc3083",
   "display_name": "Python 3.7.7 64-bit",
   "language": "python"
  }
 },
 "nbformat": 4,
 "nbformat_minor": 2,
 "cells": [
  {
   "cell_type": "code",
   "execution_count": 1,
   "metadata": {},
   "outputs": [],
   "source": [
    "import matplotlib.pyplot as plt\n",
    "import numpy as np\n",
    "import os\n",
    "import pandas as pd\n",
    "\n",
    "from tqdm import tqdm_notebook"
   ]
  },
  {
   "cell_type": "code",
   "execution_count": 2,
   "metadata": {},
   "outputs": [],
   "source": [
    "pd.set_option('display.max_rows', 500)"
   ]
  },
  {
   "cell_type": "code",
   "execution_count": 3,
   "metadata": {},
   "outputs": [],
   "source": [
    "file_path = 'C:/Users/Jacob/Documents/datasets/amsterdamumcdb-1.0.2/'\n",
    "save_path = 'C:/Users/Jacob/Documents/datasets/amsterdamumcdb-1.0.2-processed/'\n",
    "if not os.path.exists(save_path):\n",
    "    os.mkdir(save_path)"
   ]
  },
  {
   "cell_type": "code",
   "execution_count": 4,
   "metadata": {},
   "outputs": [
    {
     "output_type": "execute_result",
     "data": {
      "text/plain": [
       "   Unnamed: 0  patientid  admissionid  admissioncount location  urgency  \\\n",
       "0           4          4            4               1    IC&MC        0   \n",
       "1           5          5            5               1       IC        1   \n",
       "2           9          9            9               1       IC        0   \n",
       "3          12         12           12               1       IC        0   \n",
       "4          15         14           15               1       IC        1   \n",
       "\n",
       "                                   origin  admittedat admissionyeargroup  \\\n",
       "0      Verpleegafdeling zelfde ziekenhuis           0          2010-2016   \n",
       "1  Eerste Hulp afdeling zelfde ziekenhuis           0          2010-2016   \n",
       "2                                     NaN           0          2003-2009   \n",
       "3                                     NaN           0          2003-2009   \n",
       "4  Eerste Hulp afdeling zelfde ziekenhuis           0          2010-2016   \n",
       "\n",
       "   dischargedat  ...  destination gender agegroup  dateofdeath  weightgroup  \\\n",
       "0     180900000  ...           19    Man    70-79          NaN        70-79   \n",
       "1     246420000  ...           31    Man    50-59          NaN        60-69   \n",
       "2     242040000  ...           15  Vrouw    70-79          NaN        70-79   \n",
       "3     627960000  ...           29    Man    18-39          NaN        90-99   \n",
       "4     893220000  ...    Overleden    Man    60-69  812280000.0        60-69   \n",
       "\n",
       "   weightsource heightgroup  heightsource        specialty icudeath  \n",
       "0  Anamnestisch     170-179  Anamnestisch  Cardiochirurgie    False  \n",
       "1       Geschat     160-169       Gemeten       Longziekte    False  \n",
       "2           NaN        159-           NaN  Cardiochirurgie    False  \n",
       "3           NaN         NaN           NaN              NaN    False  \n",
       "4       Geschat     160-169       Geschat      Cardiologie     True  \n",
       "\n",
       "[5 rows x 21 columns]"
      ],
      "text/html": "<div>\n<style scoped>\n    .dataframe tbody tr th:only-of-type {\n        vertical-align: middle;\n    }\n\n    .dataframe tbody tr th {\n        vertical-align: top;\n    }\n\n    .dataframe thead th {\n        text-align: right;\n    }\n</style>\n<table border=\"1\" class=\"dataframe\">\n  <thead>\n    <tr style=\"text-align: right;\">\n      <th></th>\n      <th>Unnamed: 0</th>\n      <th>patientid</th>\n      <th>admissionid</th>\n      <th>admissioncount</th>\n      <th>location</th>\n      <th>urgency</th>\n      <th>origin</th>\n      <th>admittedat</th>\n      <th>admissionyeargroup</th>\n      <th>dischargedat</th>\n      <th>...</th>\n      <th>destination</th>\n      <th>gender</th>\n      <th>agegroup</th>\n      <th>dateofdeath</th>\n      <th>weightgroup</th>\n      <th>weightsource</th>\n      <th>heightgroup</th>\n      <th>heightsource</th>\n      <th>specialty</th>\n      <th>icudeath</th>\n    </tr>\n  </thead>\n  <tbody>\n    <tr>\n      <th>0</th>\n      <td>4</td>\n      <td>4</td>\n      <td>4</td>\n      <td>1</td>\n      <td>IC&amp;MC</td>\n      <td>0</td>\n      <td>Verpleegafdeling zelfde ziekenhuis</td>\n      <td>0</td>\n      <td>2010-2016</td>\n      <td>180900000</td>\n      <td>...</td>\n      <td>19</td>\n      <td>Man</td>\n      <td>70-79</td>\n      <td>NaN</td>\n      <td>70-79</td>\n      <td>Anamnestisch</td>\n      <td>170-179</td>\n      <td>Anamnestisch</td>\n      <td>Cardiochirurgie</td>\n      <td>False</td>\n    </tr>\n    <tr>\n      <th>1</th>\n      <td>5</td>\n      <td>5</td>\n      <td>5</td>\n      <td>1</td>\n      <td>IC</td>\n      <td>1</td>\n      <td>Eerste Hulp afdeling zelfde ziekenhuis</td>\n      <td>0</td>\n      <td>2010-2016</td>\n      <td>246420000</td>\n      <td>...</td>\n      <td>31</td>\n      <td>Man</td>\n      <td>50-59</td>\n      <td>NaN</td>\n      <td>60-69</td>\n      <td>Geschat</td>\n      <td>160-169</td>\n      <td>Gemeten</td>\n      <td>Longziekte</td>\n      <td>False</td>\n    </tr>\n    <tr>\n      <th>2</th>\n      <td>9</td>\n      <td>9</td>\n      <td>9</td>\n      <td>1</td>\n      <td>IC</td>\n      <td>0</td>\n      <td>NaN</td>\n      <td>0</td>\n      <td>2003-2009</td>\n      <td>242040000</td>\n      <td>...</td>\n      <td>15</td>\n      <td>Vrouw</td>\n      <td>70-79</td>\n      <td>NaN</td>\n      <td>70-79</td>\n      <td>NaN</td>\n      <td>159-</td>\n      <td>NaN</td>\n      <td>Cardiochirurgie</td>\n      <td>False</td>\n    </tr>\n    <tr>\n      <th>3</th>\n      <td>12</td>\n      <td>12</td>\n      <td>12</td>\n      <td>1</td>\n      <td>IC</td>\n      <td>0</td>\n      <td>NaN</td>\n      <td>0</td>\n      <td>2003-2009</td>\n      <td>627960000</td>\n      <td>...</td>\n      <td>29</td>\n      <td>Man</td>\n      <td>18-39</td>\n      <td>NaN</td>\n      <td>90-99</td>\n      <td>NaN</td>\n      <td>NaN</td>\n      <td>NaN</td>\n      <td>NaN</td>\n      <td>False</td>\n    </tr>\n    <tr>\n      <th>4</th>\n      <td>15</td>\n      <td>14</td>\n      <td>15</td>\n      <td>1</td>\n      <td>IC</td>\n      <td>1</td>\n      <td>Eerste Hulp afdeling zelfde ziekenhuis</td>\n      <td>0</td>\n      <td>2010-2016</td>\n      <td>893220000</td>\n      <td>...</td>\n      <td>Overleden</td>\n      <td>Man</td>\n      <td>60-69</td>\n      <td>812280000.0</td>\n      <td>60-69</td>\n      <td>Geschat</td>\n      <td>160-169</td>\n      <td>Geschat</td>\n      <td>Cardiologie</td>\n      <td>True</td>\n    </tr>\n  </tbody>\n</table>\n<p>5 rows × 21 columns</p>\n</div>"
     },
     "metadata": {},
     "execution_count": 4
    }
   ],
   "source": [
    "adm = pd.read_csv(os.path.join(save_path, 'admissions.csv'))\n",
    "adm.head()"
   ]
  },
  {
   "source": [
    "## Numeric items data"
   ],
   "cell_type": "markdown",
   "metadata": {}
  },
  {
   "cell_type": "code",
   "execution_count": 5,
   "metadata": {},
   "outputs": [
    {
     "output_type": "display_data",
     "data": {
      "text/plain": "HBox(children=(FloatProgress(value=0.0, max=9777.0), HTML(value='')))",
      "application/vnd.jupyter.widget-view+json": {
       "version_major": 2,
       "version_minor": 0,
       "model_id": "5b15cb8078a740fc90dc8575c7cb2119"
      }
     },
     "metadata": {}
    },
    {
     "output_type": "stream",
     "name": "stdout",
     "text": [
      "\n"
     ]
    }
   ],
   "source": [
    "adm = pd.read_csv(os.path.join(save_path, \"admissions.csv\"))\n",
    "num_file = os.path.join(file_path, \"numericitems.csv\")\n",
    "num_cols = [\"admissionid\", \"item\", \"value\", \"unit\", \"measuredat\"]\n",
    "chunksize = 100000\n",
    "num = []\n",
    "# ***reading chartevents is slow***\n",
    "# Documentation says `numericitems.csv` has 977625612 rows\n",
    "for chunk in tqdm_notebook(pd.read_csv(num_file, usecols=num_cols, chunksize=chunksize, encoding='latin-1'), total=(977625612//chunksize)+1, smoothing=0.01):\n",
    "    chunk = chunk.loc[chunk[\"admissionid\"].isin(adm[\"admissionid\"])]\n",
    "    chunk = chunk.loc[0 < chunk[\"measuredat\"]]\n",
    "    num.append(chunk)\n",
    "# N.B. - ignores \"value\", so only uses numeric lab values"
   ]
  },
  {
   "cell_type": "code",
   "execution_count": 7,
   "metadata": {},
   "outputs": [
    {
     "output_type": "stream",
     "name": "stdout",
     "text": [
      "(458030949, 5)\n"
     ]
    },
    {
     "output_type": "execute_result",
     "data": {
      "text/plain": [
       "      admissionid            item  value  unit  measuredat\n",
       "3657            4  Hartfrequentie   71.0  /min     5220000\n",
       "3658            4  Hartfrequentie   71.0  /min     5280000\n",
       "3659            4  Hartfrequentie   70.0  /min     5340000\n",
       "3660            4  Hartfrequentie   71.0  /min     5400000\n",
       "3661            4  Hartfrequentie   71.0  /min     5460000"
      ],
      "text/html": "<div>\n<style scoped>\n    .dataframe tbody tr th:only-of-type {\n        vertical-align: middle;\n    }\n\n    .dataframe tbody tr th {\n        vertical-align: top;\n    }\n\n    .dataframe thead th {\n        text-align: right;\n    }\n</style>\n<table border=\"1\" class=\"dataframe\">\n  <thead>\n    <tr style=\"text-align: right;\">\n      <th></th>\n      <th>admissionid</th>\n      <th>item</th>\n      <th>value</th>\n      <th>unit</th>\n      <th>measuredat</th>\n    </tr>\n  </thead>\n  <tbody>\n    <tr>\n      <th>3657</th>\n      <td>4</td>\n      <td>Hartfrequentie</td>\n      <td>71.0</td>\n      <td>/min</td>\n      <td>5220000</td>\n    </tr>\n    <tr>\n      <th>3658</th>\n      <td>4</td>\n      <td>Hartfrequentie</td>\n      <td>71.0</td>\n      <td>/min</td>\n      <td>5280000</td>\n    </tr>\n    <tr>\n      <th>3659</th>\n      <td>4</td>\n      <td>Hartfrequentie</td>\n      <td>70.0</td>\n      <td>/min</td>\n      <td>5340000</td>\n    </tr>\n    <tr>\n      <th>3660</th>\n      <td>4</td>\n      <td>Hartfrequentie</td>\n      <td>71.0</td>\n      <td>/min</td>\n      <td>5400000</td>\n    </tr>\n    <tr>\n      <th>3661</th>\n      <td>4</td>\n      <td>Hartfrequentie</td>\n      <td>71.0</td>\n      <td>/min</td>\n      <td>5460000</td>\n    </tr>\n  </tbody>\n</table>\n</div>"
     },
     "metadata": {},
     "execution_count": 7
    }
   ],
   "source": [
    "num = pd.concat(num)\n",
    "print(num.shape)\n",
    "num.head()"
   ]
  },
  {
   "cell_type": "code",
   "execution_count": null,
   "metadata": {},
   "outputs": [],
   "source": [
    "num.to_csv(os.path.join(save_path, \"numericitems.csv\"))"
   ]
  },
  {
   "cell_type": "code",
   "execution_count": 5,
   "metadata": {},
   "outputs": [
    {
     "output_type": "execute_result",
     "data": {
      "text/plain": [
       "(458030949, 6)"
      ]
     },
     "metadata": {},
     "execution_count": 5
    }
   ],
   "source": [
    "num = pd.read_csv(os.path.join(save_path, \"numericitems.csv\"))\n",
    "print(num.shape)\n",
    "num.head()"
   ]
  },
  {
   "cell_type": "code",
   "execution_count": 10,
   "metadata": {},
   "outputs": [
    {
     "output_type": "stream",
     "name": "stdout",
     "text": [
      "(449938056, 6)\n"
     ]
    }
   ],
   "source": [
    "# Keep 100 most frequent items in listitems\n",
    "num = num.loc[num[\"item\"].isin(num[\"item\"].value_counts().index.to_list()[:100])]\n",
    "print(num.shape)"
   ]
  },
  {
   "cell_type": "code",
   "execution_count": 11,
   "metadata": {},
   "outputs": [
    {
     "output_type": "execute_result",
     "data": {
      "text/plain": [
       "item                              unit    \n",
       "ABP diastolisch                   mmHg        15186274\n",
       "ABP gemiddeld                     mmHg        15184881\n",
       "ABP systolisch                    mmHg        15186371\n",
       "Act.HCO3 (bloed)                  mmol/l        234911\n",
       "Adem Frequentie (Set)             /min         2309185\n",
       "Ademfreq.                         /min         7655957\n",
       "Ademfrequentie Monitor            None        11370918\n",
       "B.E. (bloed)                      mmol/l        233949\n",
       "Backup druk (Set)                 cmH2O        4673496\n",
       "Barometer druk                    mbar         7573358\n",
       "CO2 min prod                      ml/min       7194799\n",
       "CO2 tidal productie               ml           7195880\n",
       "CVD                               mmHg          197444\n",
       "CVDm-gekoppeld                    mmHg         2609664\n",
       "Cdyn                              ml/cmH2O     7403581\n",
       "Eind exp. druk                    cmH2O        7661320\n",
       "Eind insp. cyclus (Set)           Geen         5683422\n",
       "End tidal CO2 concentratie        mmHg         5284253\n",
       "EtCO2 (%)                         Geen         7341711\n",
       "Exp. minuut volume                l/min        7661159\n",
       "Exp. tidal volume                 ml           7660193\n",
       "Glucose (bloed)                   mmol/l        274459\n",
       "Hartfrequentie                    /min        16847880\n",
       "Insp. Minuut volume               l/min        7660212\n",
       "Insp. Rise time (Set, %) nieuw    Geen         4621968\n",
       "Insp. Rise time (Set, sec) nieuw  sec          7611003\n",
       "Insp. Time (sec) nieuw            sec          2848596\n",
       "Insp. tidal volume                ml           7656735\n",
       "Intracraniële druk                mmHg          528689\n",
       "K (onv.ISE) (bloed)               mmol/l        199687\n",
       "MFT_Arteriele bovengrens          mmHg          744127\n",
       "MFT_Arteriele druk                mmHg          776509\n",
       "MFT_Arteriele ondergrens          mmHg          744121\n",
       "MFT_Behandelingsduur              uur           628741\n",
       "MFT_Bloedflow (ingesteld)         ml/min        724026\n",
       "MFT_FilterLooptijd                uur           441947\n",
       "MFT_Filtraat druk                 mmHg          776037\n",
       "MFT_Filtraatvolume_huidig         l             628835\n",
       "MFT_Filtraatvolume_totaal         l             628737\n",
       "MFT_Postdilutieflow (ingesteld)   ml/uur        341260\n",
       "MFT_Postdilutievolume_huidig      l             375180\n",
       "MFT_Postdilutievolume_totaal      l             375167\n",
       "MFT_Pre-filter druk               mmHg          775713\n",
       "MFT_Predilutieflow (ingesteld)    ml/uur        341455\n",
       "MFT_Predilutievolume_huidig       l             375165\n",
       "MFT_Predilutievolume_totaal       l             375154\n",
       "MFT_Substituaat (ingesteld)       ml/uur        382678\n",
       "MFT_Substitutievolume_huidig      l             253655\n",
       "MFT_Substitutievolume_totaal      l             253570\n",
       "MFT_TMP                           mmHg          776757\n",
       "MFT_TMP bovengrens                mmHg          744123\n",
       "MFT_TMP ondergrens                mmHg          744121\n",
       "MFT_Temperatuur (ingesteld)       °C            671343\n",
       "MFT_UF Totaal (ingesteld)         ml            667608\n",
       "MFT_Ultrafiltratie (ingesteld)    ml/uur        723888\n",
       "MFT_Veneuze bovengrens            mmHg          744121\n",
       "MFT_Veneuze druk                  mmHg          776388\n",
       "MFT_Veneuze ondergrens            mmHg          744119\n",
       "MVe Spontaan nieuw                l/min        6857837\n",
       "Mean luchtweg druk                cmH2O        7660509\n",
       "NIV Backup RR (Set)               /min         3079960\n",
       "NIV Backup Ti (Set)               sec          3079903\n",
       "O2 concentratie                   Geen         7671552\n",
       "O2 concentratie (Set)             Geen         7671656\n",
       "O2 l/min                          l/min         223771\n",
       "O2-Saturatie (bloed)              Geen          233976\n",
       "P Bovenste (Set)                  cmH2O        7670831\n",
       "PAP diastolisch                   mmHg          724923\n",
       "PAP gemiddeld                     mmHg          727985\n",
       "PAP systolisch                    mmHg          727755\n",
       "PC boven PEEP (Set)               cmH2O        2245559\n",
       "PEEP (Set)                        cmH2O        7672035\n",
       "PO2 (bloed)                       mmHg          235006\n",
       "PS boven PEEP (Set)               cmH2O        5073083\n",
       "Piek druk                         cmH2O        7660593\n",
       "SBI (Zwakke ademhalingsindex)     Geen         4875252\n",
       "SIMV ademcyclus (Set)             sec           945009\n",
       "ST segment analyse afleiding      mm          13264188\n",
       "ST segment analyse afleiding AVF  mm          11385886\n",
       "ST segment analyse afleiding AVL  mm          11385880\n",
       "ST segment analyse afleiding AVR  mm          11385885\n",
       "ST segment analyse afleiding I    mm          12814451\n",
       "ST segment analyse afleiding II   mm          13456817\n",
       "ST segment analyse afleiding V1   mm          10249258\n",
       "ST segment analyse afleiding V2   mm          10141686\n",
       "ST segment analyse afleiding V3   mm          10122487\n",
       "ST segment analyse afleiding V4   mm          10115636\n",
       "ST segment analyse afleiding V5   mm          10100994\n",
       "ST segment analyse afleiding V6   mm          10016655\n",
       "Saturatie (Monitor)               None        16165223\n",
       "Temp Blaas                        °C            463653\n",
       "Temp Bloed                        °C            829765\n",
       "Temp Huid                         °C            929856\n",
       "Temp Oesophagus                   °C            509517\n",
       "Temp Rectaal                      °C            247271\n",
       "Ti (sec) nieuw                    sec          2492067\n",
       "UrineCAD                          ml            654068\n",
       "WOBv                              J/l          7410841\n",
       "pCO2 (bloed)                      mmHg          236487\n",
       "pH (bloed)                        Geen          235790\n",
       "Name: unit, dtype: int64"
      ]
     },
     "metadata": {},
     "execution_count": 11
    }
   ],
   "source": [
    "num.groupby(\"item\")[\"unit\"].value_counts(dropna=False)"
   ]
  },
  {
   "cell_type": "code",
   "execution_count": 17,
   "metadata": {},
   "outputs": [
    {
     "output_type": "execute_result",
     "data": {
      "text/plain": [
       "O2 (%)                          7341711.0      4.815387      1.299909   \n",
       "Exp. minuut volume                 7661159.0     10.104444      3.463640   \n",
       "Exp. tidal volume                  7660193.0    483.746957    177.713680   \n",
       "Glucose (bloed)                     274459.0      7.703567     13.789209   \n",
       "Hartfrequentie                    16847880.0     86.699375     30.591429   \n",
       "Insp. Minuut volume                7660212.0     10.272407      3.776511   \n",
       "Insp. Rise time (Set, %) nieuw     4621968.0      4.448662      1.321668   \n",
       "Insp. Rise time (Set, sec) nieuw   7611003.0      0.146128      0.044071   \n",
       "Insp. Time (sec) nieuw             2848596.0      1.021083      0.284321   \n",
       "Insp. tidal volume                 7656735.0    491.577806    310.767519   \n",
       "Intracraniële druk                  528689.0     10.050722    238.184233   \n",
       "K (onv.ISE) (bloed)                 199687.0      5.469926    583.225500   \n",
       "MFT_Arteriele bovengrens            744127.0     53.193220     56.276509   \n",
       "MFT_Arteriele druk                  776509.0    -54.688123     29.406954   \n",
       "MFT_Arteriele ondergrens            744121.0   -159.832131     36.340585   \n",
       "MFT_Behandelingsduur                628741.0     25.252281     18.377181   \n",
       "MFT_Bloedflow (ingesteld)           724026.0    188.937593     17.990068   \n",
       "MFT_FilterLooptijd                  441947.0     28.590693     20.009477   \n",
       "MFT_Filtraat druk                   776037.0     27.798984     40.810431   \n",
       "MFT_Filtraatvolume_huidig           628835.0     29.031172     22.913422   \n",
       "MFT_Filtraatvolume_totaal           628737.0     75.287394     56.505252   \n",
       "MFT_Postdilutieflow (ingesteld)     341260.0    462.495429    300.100195   \n",
       "MFT_Postdilutievolume_huidig        375180.0   4246.813884   4413.918595   \n",
       "MFT_Postdilutievolume_totaal        375167.0  11479.275925  11646.548767   \n",
       "MFT_Pre-filter druk                 775713.0    129.536504     42.104064   \n",
       "MFT_Predilutieflow (ingesteld)      341455.0   2651.126649    169.389667   \n",
       "MFT_Predilutievolume_huidig         375165.0     25.696516     19.890277   \n",
       "MFT_Predilutievolume_totaal         375154.0     68.462058     49.236978   \n",
       "MFT_Substituaat (ingesteld)         382678.0   2314.597270    543.358023   \n",
       "MFT_Substitutievolume_huidig        253655.0     22.316414     20.281898   \n",
       "MFT_Substitutievolume_totaal        253570.0     54.295299     44.327023   \n",
       "MFT_TMP                             776757.0     72.689516     39.672579   \n",
       "MFT_TMP bovengrens                  744123.0    156.633096     77.653378   \n",
       "MFT_TMP ondergrens                  744121.0    -41.191677     33.305438   \n",
       "MFT_Temperatuur (ingesteld)         671343.0     38.852102      1.488733   \n",
       "MFT_UF Totaal (ingesteld)           667608.0      0.049535      4.356618   \n",
       "MFT_Ultrafiltratie (ingesteld)      723888.0     92.382703     93.445219   \n",
       "MFT_Veneuze bovengrens              744121.0    190.610411     71.045039   \n",
       "MFT_Veneuze druk                    776388.0     72.094109     26.969520   \n",
       "MFT_Veneuze ondergrens              744119.0     18.497285     28.454882   \n",
       "MVe Spontaan nieuw                 6857837.0      7.933335      5.290882   \n",
       "Mean luchtweg druk                 7660509.0     11.273311      4.213934   \n",
       "NIV Backup RR (Set)                3079960.0     14.846672      2.137053   \n",
       "NIV Backup Ti (Set)                3079903.0      1.002202      0.053399   \n",
       "O2 concentratie                    7671552.0     43.925153    924.463623   \n",
       "O2 concentratie (Set)              7671656.0     43.113385     12.473858   \n",
       "O2 l/min                            223771.0      5.235922      3.448014   \n",
       "O2-Saturatie (bloed)                233976.0      0.979703      1.502861   \n",
       "P Bovenste (Set)                   7670831.0     41.807669      8.637085   \n",
       "PAP diastolisch                     724923.0     16.332117     66.892717   \n",
       "PAP gemiddeld                       727985.0     22.876820     39.165122   \n",
       "PAP systolisch                      727755.0     34.177071     55.866243   \n",
       "PC boven PEEP (Set)                2245559.0     14.429989      5.090960   \n",
       "PEEP (Set)                         7672035.0      8.402158      3.178909   \n",
       "PO2 (bloed)                         235006.0     96.547067     36.813401   \n",
       "PS boven PEEP (Set)                5073083.0      5.941531      5.263585   \n",
       "Piek druk                          7660593.0     18.340666      7.512109   \n",
       "SBI (Zwakke ademhalingsindex)      4875252.0     71.188173    260.081888   \n",
       "SIMV ademcyclus (Set)               945009.0      3.283731      0.824532   \n",
       "ST segment analyse afleiding      13264188.0     -0.083354     23.764318   \n",
       "ST segment analyse afleiding AVF  11385886.0      0.178097     12.442000   \n",
       "ST segment analyse afleiding AVL  11385880.0     -0.145481     14.222076   \n",
       "ST segment analyse afleiding AVR  11385885.0      0.039221     13.144449   \n",
       "ST segment analyse afleiding I    12814451.0     -0.109091     24.408674   \n",
       "ST segment analyse afleiding II   13456817.0      0.043714     22.849286   \n",
       "ST segment analyse afleiding V1   10249258.0      0.341627      9.710538   \n",
       "ST segment analyse afleiding V2   10141686.0      0.887931     18.718877   \n",
       "ST segment analyse afleiding V3   10122487.0      0.616189      6.489955   \n",
       "ST segment analyse afleiding V4   10115636.0      0.282198     10.457239   \n",
       "ST segment analyse afleiding V5   10100994.0     -0.037143      9.393733   \n",
       "ST segment analyse afleiding V6   10016655.0      0.032404     10.494809   \n",
       "Saturatie (Monitor)               16165223.0     96.070778      5.836342   \n",
       "Temp Blaas                          463653.0     37.181702      1.089118   \n",
       "Temp Bloed                          829765.0     36.708895      1.205579   \n",
       "Temp Huid                           929856.0     36.610581      2.583231   \n",
       "Temp Oesophagus                     509517.0     36.466869      2.095062   \n",
       "Temp Rectaal                        247271.0     36.222947      2.307434   \n",
       "Ti (sec) nieuw                     2492067.0      0.999396      0.518672   \n",
       "UrineCAD                            654068.0    136.006793    193.060026   \n",
       "WOBv                               7410841.0      0.759636      0.559541   \n",
       "pCO2 (bloed)                        236487.0     41.758300     12.004264   \n",
       "pH (bloed)                          235790.0      8.297987     72.352773   \n",
       "\n",
       "                                           min       5%          50%  \\\n",
       "item                                                                   \n",
       "ABP diastolisch                  -3.270000e+04    44.00    60.000000   \n",
       "ABP gemiddeld                    -3.269800e+04    61.00    81.000000   \n",
       "ABP systolisch                   -3.269800e+04    89.00   125.000000   \n",
       "Act.HCO3 (bloed)                 -2.410000e+01    17.00    25.100000   \n",
       "Adem Frequentie (Set)             0.000000e+00    13.00    20.000000   \n",
       "Ademfreq.                         0.000000e+00    12.00    21.000000   \n",
       "Ademfrequentie Monitor           -1.000000e+00     9.00    19.000000   \n",
       "B.E. (bloed)                     -1.660000e+02    -5.10     2.900000   \n",
       "Backup druk (Set)                 0.000000e+00     5.00    14.000000   \n",
       "Barometer druk                    0.000000e+00   990.00  1009.000000   \n",
       "CO2 min prod                      0.000000e+00   126.00   234.000000   \n",
       "CO2 tidal productie               0.000000e+00     4.70    11.200000   \n",
       "CVD                              -9.859861e+06     2.00     8.000000   \n",
       "CVDm-gekoppeld                   -1.390000e+02     1.00    10.000000   \n",
       "Cdyn                              0.000000e+00    20.00    48.000000   \n",
       "Eind exp. druk                    0.000000e+00     5.00     8.000000   \n",
       "Eind insp. cyclus (Set)           0.000000e+00    30.00    30.000000   \n",
       "End tidal CO2 concentratie        0.000000e+00    22.00    36.000000   \n",
       "EtCO2 (%)                         0.000000e+00     3.00     5.000000   \n",
       "Exp. minuut volume                0.000000e+00     5.70     9.600000   \n",
       "Exp. tidal volume                 0.000000e+00   230.00   467.000000   \n",
       "Glucose (bloed)                   0.000000e+00     4.70     7.300000   \n",
       "Hartfrequentie                   -9.500000e+01    58.00    86.000000   \n",
       "Insp. Minuut volume               0.000000e+00     5.80     9.700000   \n",
       "Insp. Rise time (Set, %) nieuw    0.000000e+00     1.30     5.000000   \n",
       "Insp. Rise time (Set, sec) nieuw  0.000000e+00     0.05     0.150000   \n",
       "Insp. Time (sec) nieuw            0.000000e+00     0.62     1.000000   \n",
       "Insp. tidal volume                0.000000e+00   269.00   470.000000   \n",
       "Intracraniële druk               -3.269300e+04     1.00    10.000000   \n",
       "K (onv.ISE) (bloed)               0.000000e+00     3.50     4.100000   \n",
       "MFT_Arteriele bovengrens         -2.100000e+02   -10.00    50.000000   \n",
       "MFT_Arteriele druk               -2.800000e+02  -100.00   -50.000000   \n",
       "MFT_Arteriele ondergrens         -2.800000e+02  -240.00  -150.000000   \n",
       "MFT_Behandelingsduur              0.000000e+00     1.83    21.379999   \n",
       "MFT_Bloedflow (ingesteld)         1.000000e+01   180.00   180.000000   \n",
       "MFT_FilterLooptijd               -1.200000e+02     3.00    25.000000   \n",
       "MFT_Filtraat druk                -3.000000e+02   -30.00    20.000000   \n",
       "MFT_Filtraatvolume_huidig         0.000000e+00     2.07    24.320000   \n",
       "MFT_Filtraatvolume_totaal         0.000000e+00     5.22    62.980000   \n",
       "MFT_Postdilutieflow (ingesteld)   0.000000e+00     0.00   600.000000   \n",
       "MFT_Postdilutievolume_huidig      0.000000e+00     0.00  3069.000000   \n",
       "MFT_Postdilutievolume_totaal      0.000000e+00     0.00  7903.000000   \n",
       "MFT_Pre-filter druk              -5.000000e+01    80.00   120.000000   \n",
       "MFT_Predilutieflow (ingesteld)    0.000000e+00  2400.00  2700.000000   \n",
       "MFT_Predilutievolume_huidig       0.000000e+00     1.86    22.120001   \n",
       "MFT_Predilutievolume_totaal       0.000000e+00     5.07    58.509998   \n",
       "MFT_Substituaat (ingesteld)       0.000000e+00   600.00  2400.000000   \n",
       "MFT_Substitutievolume_huidig      0.000000e+00     1.06    17.110001   \n",
       "MFT_Substitutievolume_totaal      0.000000e+00     2.56    41.580002   \n",
       "MFT_TMP                          -6.000000e+01    10.00    70.000000   \n",
       "MFT_TMP bovengrens               -6.000000e+01    90.00   140.000000   \n",
       "MFT_TMP ondergrens               -6.000000e+01   -60.00   -60.000000   \n",
       "MFT_Temperatuur (ingesteld)       0.000000e+00    37.00    39.000000   \n",
       "MFT_UF Totaal (ingesteld)         0.000000e+00     0.00     0.000000   \n",
       "MFT_Ultrafiltratie (ingesteld)   -1.500000e+02     0.00   100.000000   \n",
       "MFT_Veneuze bovengrens            0.000000e+00   125.00   170.000000   \n",
       "MFT_Veneuze druk                 -1.500000e+02    40.00    70.000000   \n",
       "MFT_Veneuze ondergrens           -8.000000e+01     0.00    10.000000   \n",
       "MVe Spontaan nieuw                0.000000e+00     0.00     8.500000   \n",
       "Mean luchtweg druk                0.000000e+00     6.00    10.000000   \n",
       "NIV Backup RR (Set)               0.000000e+00    15.00    15.000000   \n",
       "NIV Backup Ti (Set)               0.000000e+00     1.00     1.000000   \n",
       "O2 concentratie                   0.000000e+00    26.00    41.000000   \n",
       "O2 concentratie (Set)             0.000000e+00    25.00    40.000000   \n",
       "O2 l/min                         -5.000000e+00     1.00     5.000000   \n",
       "O2-Saturatie (bloed)             -9.700000e-01     0.88     0.980000   \n",
       "P Bovenste (Set)                  0.000000e+00    35.00    40.000000   \n",
       "PAP diastolisch                  -3.270000e+04     7.00    16.000000   \n",
       "PAP gemiddeld                    -3.270000e+04    12.00    22.000000   \n",
       "PAP systolisch                   -3.270000e+04    19.00    32.000000   \n",
       "PC boven PEEP (Set)               0.000000e+00     8.00    14.000000   \n",
       "PEEP (Set)                        0.000000e+00     5.00     8.000000   \n",
       "PO2 (bloed)                       0.000000e+00    55.00    90.000000   \n",
       "PS boven PEEP (Set)               0.000000e+00     0.00     5.000000   \n",
       "Piek druk                         0.000000e+00     8.00    17.000000   \n",
       "SBI (Zwakke ademhalingsindex)     0.000000e+00    15.00    44.000000   \n",
       "SIMV ademcyclus (Set)             0.000000e+00     2.00     3.300000   \n",
       "ST segment analyse afleiding     -3.270000e+03    -0.50     0.100000   \n",
       "ST segment analyse afleiding AVF -1.573000e+03    -0.50     0.000000   \n",
       "ST segment analyse afleiding AVL -1.769900e+03    -0.50     0.000000   \n",
       "ST segment analyse afleiding AVR -1.900800e+03    -0.70     0.000000   \n",
       "ST segment analyse afleiding I   -3.270000e+03    -0.50     0.000000   \n",
       "ST segment analyse afleiding II  -3.270000e+03    -0.60     0.100000   \n",
       "ST segment analyse afleiding V1  -8.520000e+02    -0.40     0.200000   \n",
       "ST segment analyse afleiding V2  -1.850000e+01    -0.30     0.600000   \n",
       "ST segment analyse afleiding V3  -1.966400e+03    -0.40     0.500000   \n",
       "ST segment analyse afleiding V4  -1.508900e+03    -0.70     0.200000   \n",
       "ST segment analyse afleiding V5  -1.312100e+03    -0.80     0.000000   \n",
       "ST segment analyse afleiding V6  -9.178000e+02    -0.80     0.000000   \n",
       "Saturatie (Monitor)               0.000000e+00    91.00    96.000000   \n",
       "Temp Blaas                        9.000000e+00    35.70    37.300000   \n",
       "Temp Bloed                        0.000000e+00    35.50    36.800000   \n",
       "Temp Huid                         1.640000e+01    33.20    37.000000   \n",
       "Temp Oesophagus                   0.000000e+00    33.00    36.800000   \n",
       "Temp Rectaal                      0.000000e+00    32.40    36.800000   \n",
       "Ti (sec) nieuw                    0.000000e+00     0.60     1.000000   \n",
       "UrineCAD                          0.000000e+00    15.00   100.000000   \n",
       "WOBv                              0.000000e+00     0.07     0.720000   \n",
       "pCO2 (bloed)                     -1.000000e+00    30.00    40.000000   \n",
       "pH (bloed)                        0.000000e+00     7.24     7.410000   \n",
       "\n",
       "                                           95%           max  \n",
       "item                                                          \n",
       "ABP diastolisch                      87.000000  6.610800e+04  \n",
       "ABP gemiddeld                       114.000000  1.007410e+06  \n",
       "ABP systolisch                      176.000000  3.361700e+05  \n",
       "Act.HCO3 (bloed)                     33.700001  3.510000e+02  \n",
       "Adem Frequentie (Set)                30.000000  4.930000e+02  \n",
       "Ademfreq.                            35.000000  7.120000e+02  \n",
       "Ademfrequentie Monitor               33.000000  5.402000e+03  \n",
       "B.E. (bloed)                         10.000000  2.833000e+02  \n",
       "Backup druk (Set)                    20.000000  2.000000e+02  \n",
       "Barometer druk                     1024.000000  1.045000e+03  \n",
       "CO2 min prod                        383.000000  3.726700e+04  \n",
       "CO2 tidal productie                  23.600000  1.991000e+02  \n",
       "CVD                                  16.000000  6.743100e+04  \n",
       "CVDm-gekoppeld                       26.000000  3.610000e+02  \n",
       "Cdyn                                205.000000  5.000000e+03  \n",
       "Eind exp. druk                       14.000000  4.900000e+01  \n",
       "Eind insp. cyclus (Set)              30.000000  7.000000e+01  \n",
       "End tidal CO2 concentratie           51.000000  3.490000e+03  \n",
       "EtCO2 (%)                             7.000000  1.400000e+01  \n",
       "Exp. minuut volume                   16.299999  7.330000e+02  \n",
       "Exp. tidal volume                   779.000000  1.148000e+04  \n",
       "Glucose (bloed)                      11.900000  7.108000e+03  \n",
       "Hartfrequentie                      120.000000  9.616000e+04  \n",
       "Insp. Minuut volume                  16.400000  1.005000e+03  \n",
       "Insp. Rise time (Set, %) nieuw        5.000000  2.048000e+02  \n",
       "Insp. Rise time (Set, sec) nieuw      0.200000  1.400000e+01  \n",
       "Insp. Time (sec) nieuw                1.430000  3.500000e+01  \n",
       "Insp. tidal volume                  782.000000  7.038390e+05  \n",
       "Intracraniële druk                   25.000000  1.112000e+03  \n",
       "K (onv.ISE) (bloed)                   5.100000  2.606260e+05  \n",
       "MFT_Arteriele bovengrens             90.000000  3.000000e+02  \n",
       "MFT_Arteriele druk                  -20.000000  8.000000e+01  \n",
       "MFT_Arteriele ondergrens           -120.000000  0.000000e+00  \n",
       "MFT_Behandelingsduur                 59.730000  8.198000e+01  \n",
       "MFT_Bloedflow (ingesteld)           220.000000  4.000000e+02  \n",
       "MFT_FilterLooptijd                   66.000000  8.500000e+01  \n",
       "MFT_Filtraat druk                    90.000000  3.000000e+02  \n",
       "MFT_Filtraatvolume_huidig            69.120003  1.750500e+02  \n",
       "MFT_Filtraatvolume_totaal           182.330000  2.776300e+02  \n",
       "MFT_Postdilutieflow (ingesteld)     800.000000  2.700000e+03  \n",
       "MFT_Postdilutievolume_huidig      12328.000000  3.106300e+04  \n",
       "MFT_Postdilutievolume_totaal      34570.700000  5.215400e+04  \n",
       "MFT_Pre-filter druk                 200.000000  7.500000e+02  \n",
       "MFT_Predilutieflow (ingesteld)     3000.000000  3.300000e+03  \n",
       "MFT_Predilutievolume_huidig          56.970001  1.653700e+02  \n",
       "MFT_Predilutievolume_totaal         158.500000  2.214000e+02  \n",
       "MFT_Substituaat (ingesteld)        3000.000000  4.800000e+03  \n",
       "MFT_Substitutievolume_huidig         55.000000  1.584000e+02  \n",
       "MFT_Substitutievolume_totaal        141.230000  1.933900e+02  \n",
       "MFT_TMP                             150.000000  5.200000e+02  \n",
       "MFT_TMP bovengrens                  290.000000  5.200000e+02  \n",
       "MFT_TMP ondergrens                   30.000000  3.600000e+02  \n",
       "MFT_Temperatuur (ingesteld)          39.000000  7.400000e+02  \n",
       "MFT_UF Totaal (ingesteld)             0.000000  2.700000e+03  \n",
       "MFT_Ultrafiltratie (ingesteld)      250.000000  1.000000e+03  \n",
       "MFT_Veneuze bovengrens              300.000000  5.000000e+02  \n",
       "MFT_Veneuze druk                    120.000000  5.000000e+02  \n",
       "MFT_Veneuze ondergrens               60.000000  4.800000e+02  \n",
       "MVe Spontaan nieuw                   16.299999  6.400000e+02  \n",
       "Mean luchtweg druk                   19.000000  6.800000e+01  \n",
       "NIV Backup RR (Set)                  15.000000  2.800000e+01  \n",
       "NIV Backup Ti (Set)                   1.000000  5.000000e+00  \n",
       "O2 concentratie                      65.000000  2.393872e+06  \n",
       "O2 concentratie (Set)                65.000000  7.400000e+02  \n",
       "O2 l/min                             12.000000  1.150000e+02  \n",
       "O2-Saturatie (bloed)                  0.990000  9.980000e+01  \n",
       "P Bovenste (Set)                     58.000000  2.048000e+03  \n",
       "PAP diastolisch                      28.000000  3.140000e+02  \n",
       "PAP gemiddeld                        36.000000  3.140000e+02  \n",
       "PAP systolisch                       55.000000  5.736000e+03  \n",
       "PC boven PEEP (Set)                  24.000000  2.180000e+02  \n",
       "PEEP (Set)                           14.000000  8.500000e+01  \n",
       "PO2 (bloed)                         158.000000  6.720000e+02  \n",
       "PS boven PEEP (Set)                  15.000000  2.450000e+02  \n",
       "Piek druk                            32.000000  9.180000e+02  \n",
       "SBI (Zwakke ademhalingsindex)       127.000000  9.995000e+03  \n",
       "SIMV ademcyclus (Set)                 4.600000  4.000000e+01  \n",
       "ST segment analyse afleiding          0.800000  3.173900e+03  \n",
       "ST segment analyse afleiding AVF      0.700000  2.033200e+03  \n",
       "ST segment analyse afleiding AVL      0.500000  1.965500e+03  \n",
       "ST segment analyse afleiding AVR      0.500000  1.573300e+03  \n",
       "ST segment analyse afleiding I        0.700000  2.124800e+03  \n",
       "ST segment analyse afleiding II       0.900000  1.900400e+03  \n",
       "ST segment analyse afleiding V1       1.200000  1.048300e+03  \n",
       "ST segment analyse afleiding V2       2.200000  2.030400e+03  \n",
       "ST segment analyse afleiding V3       2.100000  1.899000e+03  \n",
       "ST segment analyse afleiding V4       1.300000  1.900400e+03  \n",
       "ST segment analyse afleiding V5       0.800000  1.899900e+03  \n",
       "ST segment analyse afleiding V6       0.600000  1.834400e+03  \n",
       "Saturatie (Monitor)                 100.000000  1.009900e+04  \n",
       "Temp Blaas                           38.500000  4.050000e+01  \n",
       "Temp Bloed                           37.900000  3.710000e+02  \n",
       "Temp Huid                            38.800000  4.070000e+01  \n",
       "Temp Oesophagus                      38.300000  3.750000e+02  \n",
       "Temp Rectaal                         38.500000  3.730000e+02  \n",
       "Ti (sec) nieuw                        1.400000  3.330000e+02  \n",
       "UrineCAD                            380.000000  1.223480e+05  \n",
       "WOBv                                  1.720000  2.001000e+01  \n",
       "pCO2 (bloed)                         58.000000  3.537000e+03  \n",
       "pH (bloed)                            7.500000  7.522000e+03  "
      ],
      "text/html": "<div>\n<style scoped>\n    .dataframe tbody tr th:only-of-type {\n        vertical-align: middle;\n    }\n\n    .dataframe tbody tr th {\n        vertical-align: top;\n    }\n\n    .dataframe thead th {\n        text-align: right;\n    }\n</style>\n<table border=\"1\" class=\"dataframe\">\n  <thead>\n    <tr style=\"text-align: right;\">\n      <th></th>\n      <th>count</th>\n      <th>mean</th>\n      <th>std</th>\n      <th>min</th>\n      <th>5%</th>\n      <th>50%</th>\n      <th>95%</th>\n      <th>max</th>\n    </tr>\n    <tr>\n      <th>item</th>\n      <th></th>\n      <th></th>\n      <th></th>\n      <th></th>\n      <th></th>\n      <th></th>\n      <th></th>\n      <th></th>\n    </tr>\n  </thead>\n  <tbody>\n    <tr>\n      <th>ABP diastolisch</th>\n      <td>15186274.0</td>\n      <td>62.466858</td>\n      <td>31.965752</td>\n      <td>-3.270000e+04</td>\n      <td>44.00</td>\n      <td>60.000000</td>\n      <td>87.000000</td>\n      <td>6.610800e+04</td>\n    </tr>\n    <tr>\n      <th>ABP gemiddeld</th>\n      <td>15184881.0</td>\n      <td>83.610000</td>\n      <td>259.488737</td>\n      <td>-3.269800e+04</td>\n      <td>61.00</td>\n      <td>81.000000</td>\n      <td>114.000000</td>\n      <td>1.007410e+06</td>\n    </tr>\n    <tr>\n      <th>ABP systolisch</th>\n      <td>15186371.0</td>\n      <td>128.054486</td>\n      <td>91.702024</td>\n      <td>-3.269800e+04</td>\n      <td>89.00</td>\n      <td>125.000000</td>\n      <td>176.000000</td>\n      <td>3.361700e+05</td>\n    </tr>\n    <tr>\n      <th>Act.HCO3 (bloed)</th>\n      <td>234911.0</td>\n      <td>25.208026</td>\n      <td>5.817447</td>\n      <td>-2.410000e+01</td>\n      <td>17.00</td>\n      <td>25.100000</td>\n      <td>33.700001</td>\n      <td>3.510000e+02</td>\n    </tr>\n    <tr>\n      <th>Adem Frequentie (Set)</th>\n      <td>2309185.0</td>\n      <td>21.247160</td>\n      <td>5.790121</td>\n      <td>0.000000e+00</td>\n      <td>13.00</td>\n      <td>20.000000</td>\n      <td>30.000000</td>\n      <td>4.930000e+02</td>\n    </tr>\n    <tr>\n      <th>Ademfreq.</th>\n      <td>7655957.0</td>\n      <td>21.785483</td>\n      <td>7.262204</td>\n      <td>0.000000e+00</td>\n      <td>12.00</td>\n      <td>21.000000</td>\n      <td>35.000000</td>\n      <td>7.120000e+02</td>\n    </tr>\n    <tr>\n      <th>Ademfrequentie Monitor</th>\n      <td>11370918.0</td>\n      <td>19.727445</td>\n      <td>7.947420</td>\n      <td>-1.000000e+00</td>\n      <td>9.00</td>\n      <td>19.000000</td>\n      <td>33.000000</td>\n      <td>5.402000e+03</td>\n    </tr>\n    <tr>\n      <th>B.E. (bloed)</th>\n      <td>233949.0</td>\n      <td>2.931547</td>\n      <td>4.700849</td>\n      <td>-1.660000e+02</td>\n      <td>-5.10</td>\n      <td>2.900000</td>\n      <td>10.000000</td>\n      <td>2.833000e+02</td>\n    </tr>\n    <tr>\n      <th>Backup druk (Set)</th>\n      <td>4673496.0</td>\n      <td>13.851904</td>\n      <td>5.978676</td>\n      <td>0.000000e+00</td>\n      <td>5.00</td>\n      <td>14.000000</td>\n      <td>20.000000</td>\n      <td>2.000000e+02</td>\n    </tr>\n    <tr>\n      <th>Barometer druk</th>\n      <td>7573358.0</td>\n      <td>1008.133187</td>\n      <td>10.194125</td>\n      <td>0.000000e+00</td>\n      <td>990.00</td>\n      <td>1009.000000</td>\n      <td>1024.000000</td>\n      <td>1.045000e+03</td>\n    </tr>\n    <tr>\n      <th>CO2 min prod</th>\n      <td>7194799.0</td>\n      <td>241.633951</td>\n      <td>84.160505</td>\n      <td>0.000000e+00</td>\n      <td>126.00</td>\n      <td>234.000000</td>\n      <td>383.000000</td>\n      <td>3.726700e+04</td>\n    </tr>\n    <tr>\n      <th>CO2 tidal productie</th>\n      <td>7195880.0</td>\n      <td>12.272846</td>\n      <td>6.223481</td>\n      <td>0.000000e+00</td>\n      <td>4.70</td>\n      <td>11.200000</td>\n      <td>23.600000</td>\n      <td>1.991000e+02</td>\n    </tr>\n    <tr>\n      <th>CVD</th>\n      <td>197444.0</td>\n      <td>-45.709188</td>\n      <td>22299.110924</td>\n      <td>-9.859861e+06</td>\n      <td>2.00</td>\n      <td>8.000000</td>\n      <td>16.000000</td>\n      <td>6.743100e+04</td>\n    </tr>\n    <tr>\n      <th>CVDm-gekoppeld</th>\n      <td>2609664.0</td>\n      <td>15.690291</td>\n      <td>35.766940</td>\n      <td>-1.390000e+02</td>\n      <td>1.00</td>\n      <td>10.000000</td>\n      <td>26.000000</td>\n      <td>3.610000e+02</td>\n    </tr>\n    <tr>\n      <th>Cdyn</th>\n      <td>7403581.0</td>\n      <td>77.561891</td>\n      <td>132.951368</td>\n      <td>0.000000e+00</td>\n      <td>20.00</td>\n      <td>48.000000</td>\n      <td>205.000000</td>\n      <td>5.000000e+03</td>\n    </tr>\n    <tr>\n      <th>Eind exp. druk</th>\n      <td>7661320.0</td>\n      <td>8.352596</td>\n      <td>3.246513</td>\n      <td>0.000000e+00</td>\n      <td>5.00</td>\n      <td>8.000000</td>\n      <td>14.000000</td>\n      <td>4.900000e+01</td>\n    </tr>\n    <tr>\n      <th>Eind insp. cyclus (Set)</th>\n      <td>5683422.0</td>\n      <td>30.682841</td>\n      <td>4.372818</td>\n      <td>0.000000e+00</td>\n      <td>30.00</td>\n      <td>30.000000</td>\n      <td>30.000000</td>\n      <td>7.000000e+01</td>\n    </tr>\n    <tr>\n      <th>End tidal CO2 concentratie</th>\n      <td>5284253.0</td>\n      <td>36.252074</td>\n      <td>9.808951</td>\n      <td>0.000000e+00</td>\n      <td>22.00</td>\n      <td>36.000000</td>\n      <td>51.000000</td>\n      <td>3.490000e+03</td>\n    </tr>\n    <tr>\n      <th>EtCO2 (%)</th>\n      <td>7341711.0</td>\n      <td>4.815387</td>\n      <td>1.299909</td>\n      <td>0.000000e+00</td>\n      <td>3.00</td>\n      <td>5.000000</td>\n      <td>7.000000</td>\n      <td>1.400000e+01</td>\n    </tr>\n    <tr>\n      <th>Exp. minuut volume</th>\n      <td>7661159.0</td>\n      <td>10.104444</td>\n      <td>3.463640</td>\n      <td>0.000000e+00</td>\n      <td>5.70</td>\n      <td>9.600000</td>\n      <td>16.299999</td>\n      <td>7.330000e+02</td>\n    </tr>\n    <tr>\n      <th>Exp. tidal volume</th>\n      <td>7660193.0</td>\n      <td>483.746957</td>\n      <td>177.713680</td>\n      <td>0.000000e+00</td>\n      <td>230.00</td>\n      <td>467.000000</td>\n      <td>779.000000</td>\n      <td>1.148000e+04</td>\n    </tr>\n    <tr>\n      <th>Glucose (bloed)</th>\n      <td>274459.0</td>\n      <td>7.703567</td>\n      <td>13.789209</td>\n      <td>0.000000e+00</td>\n      <td>4.70</td>\n      <td>7.300000</td>\n      <td>11.900000</td>\n      <td>7.108000e+03</td>\n    </tr>\n    <tr>\n      <th>Hartfrequentie</th>\n      <td>16847880.0</td>\n      <td>86.699375</td>\n      <td>30.591429</td>\n      <td>-9.500000e+01</td>\n      <td>58.00</td>\n      <td>86.000000</td>\n      <td>120.000000</td>\n      <td>9.616000e+04</td>\n    </tr>\n    <tr>\n      <th>Insp. Minuut volume</th>\n      <td>7660212.0</td>\n      <td>10.272407</td>\n      <td>3.776511</td>\n      <td>0.000000e+00</td>\n      <td>5.80</td>\n      <td>9.700000</td>\n      <td>16.400000</td>\n      <td>1.005000e+03</td>\n    </tr>\n    <tr>\n      <th>Insp. Rise time (Set, %) nieuw</th>\n      <td>4621968.0</td>\n      <td>4.448662</td>\n      <td>1.321668</td>\n      <td>0.000000e+00</td>\n      <td>1.30</td>\n      <td>5.000000</td>\n      <td>5.000000</td>\n      <td>2.048000e+02</td>\n    </tr>\n    <tr>\n      <th>Insp. Rise time (Set, sec) nieuw</th>\n      <td>7611003.0</td>\n      <td>0.146128</td>\n      <td>0.044071</td>\n      <td>0.000000e+00</td>\n      <td>0.05</td>\n      <td>0.150000</td>\n      <td>0.200000</td>\n      <td>1.400000e+01</td>\n    </tr>\n    <tr>\n      <th>Insp. Time (sec) nieuw</th>\n      <td>2848596.0</td>\n      <td>1.021083</td>\n      <td>0.284321</td>\n      <td>0.000000e+00</td>\n      <td>0.62</td>\n      <td>1.000000</td>\n      <td>1.430000</td>\n      <td>3.500000e+01</td>\n    </tr>\n    <tr>\n      <th>Insp. tidal volume</th>\n      <td>7656735.0</td>\n      <td>491.577806</td>\n      <td>310.767519</td>\n      <td>0.000000e+00</td>\n      <td>269.00</td>\n      <td>470.000000</td>\n      <td>782.000000</td>\n      <td>7.038390e+05</td>\n    </tr>\n    <tr>\n      <th>Intracraniële druk</th>\n      <td>528689.0</td>\n      <td>10.050722</td>\n      <td>238.184233</td>\n      <td>-3.269300e+04</td>\n      <td>1.00</td>\n      <td>10.000000</td>\n      <td>25.000000</td>\n      <td>1.112000e+03</td>\n    </tr>\n    <tr>\n      <th>K (onv.ISE) (bloed)</th>\n      <td>199687.0</td>\n      <td>5.469926</td>\n      <td>583.225500</td>\n      <td>0.000000e+00</td>\n      <td>3.50</td>\n      <td>4.100000</td>\n      <td>5.100000</td>\n      <td>2.606260e+05</td>\n    </tr>\n    <tr>\n      <th>MFT_Arteriele bovengrens</th>\n      <td>744127.0</td>\n      <td>53.193220</td>\n      <td>56.276509</td>\n      <td>-2.100000e+02</td>\n      <td>-10.00</td>\n      <td>50.000000</td>\n      <td>90.000000</td>\n      <td>3.000000e+02</td>\n    </tr>\n    <tr>\n      <th>MFT_Arteriele druk</th>\n      <td>776509.0</td>\n      <td>-54.688123</td>\n      <td>29.406954</td>\n      <td>-2.800000e+02</td>\n      <td>-100.00</td>\n      <td>-50.000000</td>\n      <td>-20.000000</td>\n      <td>8.000000e+01</td>\n    </tr>\n    <tr>\n      <th>MFT_Arteriele ondergrens</th>\n      <td>744121.0</td>\n      <td>-159.832131</td>\n      <td>36.340585</td>\n      <td>-2.800000e+02</td>\n      <td>-240.00</td>\n      <td>-150.000000</td>\n      <td>-120.000000</td>\n      <td>0.000000e+00</td>\n    </tr>\n    <tr>\n      <th>MFT_Behandelingsduur</th>\n      <td>628741.0</td>\n      <td>25.252281</td>\n      <td>18.377181</td>\n      <td>0.000000e+00</td>\n      <td>1.83</td>\n      <td>21.379999</td>\n      <td>59.730000</td>\n      <td>8.198000e+01</td>\n    </tr>\n    <tr>\n      <th>MFT_Bloedflow (ingesteld)</th>\n      <td>724026.0</td>\n      <td>188.937593</td>\n      <td>17.990068</td>\n      <td>1.000000e+01</td>\n      <td>180.00</td>\n      <td>180.000000</td>\n      <td>220.000000</td>\n      <td>4.000000e+02</td>\n    </tr>\n    <tr>\n      <th>MFT_FilterLooptijd</th>\n      <td>441947.0</td>\n      <td>28.590693</td>\n      <td>20.009477</td>\n      <td>-1.200000e+02</td>\n      <td>3.00</td>\n      <td>25.000000</td>\n      <td>66.000000</td>\n      <td>8.500000e+01</td>\n    </tr>\n    <tr>\n      <th>MFT_Filtraat druk</th>\n      <td>776037.0</td>\n      <td>27.798984</td>\n      <td>40.810431</td>\n      <td>-3.000000e+02</td>\n      <td>-30.00</td>\n      <td>20.000000</td>\n      <td>90.000000</td>\n      <td>3.000000e+02</td>\n    </tr>\n    <tr>\n      <th>MFT_Filtraatvolume_huidig</th>\n      <td>628835.0</td>\n      <td>29.031172</td>\n      <td>22.913422</td>\n      <td>0.000000e+00</td>\n      <td>2.07</td>\n      <td>24.320000</td>\n      <td>69.120003</td>\n      <td>1.750500e+02</td>\n    </tr>\n    <tr>\n      <th>MFT_Filtraatvolume_totaal</th>\n      <td>628737.0</td>\n      <td>75.287394</td>\n      <td>56.505252</td>\n      <td>0.000000e+00</td>\n      <td>5.22</td>\n      <td>62.980000</td>\n      <td>182.330000</td>\n      <td>2.776300e+02</td>\n    </tr>\n    <tr>\n      <th>MFT_Postdilutieflow (ingesteld)</th>\n      <td>341260.0</td>\n      <td>462.495429</td>\n      <td>300.100195</td>\n      <td>0.000000e+00</td>\n      <td>0.00</td>\n      <td>600.000000</td>\n      <td>800.000000</td>\n      <td>2.700000e+03</td>\n    </tr>\n    <tr>\n      <th>MFT_Postdilutievolume_huidig</th>\n      <td>375180.0</td>\n      <td>4246.813884</td>\n      <td>4413.918595</td>\n      <td>0.000000e+00</td>\n      <td>0.00</td>\n      <td>3069.000000</td>\n      <td>12328.000000</td>\n      <td>3.106300e+04</td>\n    </tr>\n    <tr>\n      <th>MFT_Postdilutievolume_totaal</th>\n      <td>375167.0</td>\n      <td>11479.275925</td>\n      <td>11646.548767</td>\n      <td>0.000000e+00</td>\n      <td>0.00</td>\n      <td>7903.000000</td>\n      <td>34570.700000</td>\n      <td>5.215400e+04</td>\n    </tr>\n    <tr>\n      <th>MFT_Pre-filter druk</th>\n      <td>775713.0</td>\n      <td>129.536504</td>\n      <td>42.104064</td>\n      <td>-5.000000e+01</td>\n      <td>80.00</td>\n      <td>120.000000</td>\n      <td>200.000000</td>\n      <td>7.500000e+02</td>\n    </tr>\n    <tr>\n      <th>MFT_Predilutieflow (ingesteld)</th>\n      <td>341455.0</td>\n      <td>2651.126649</td>\n      <td>169.389667</td>\n      <td>0.000000e+00</td>\n      <td>2400.00</td>\n      <td>2700.000000</td>\n      <td>3000.000000</td>\n      <td>3.300000e+03</td>\n    </tr>\n    <tr>\n      <th>MFT_Predilutievolume_huidig</th>\n      <td>375165.0</td>\n      <td>25.696516</td>\n      <td>19.890277</td>\n      <td>0.000000e+00</td>\n      <td>1.86</td>\n      <td>22.120001</td>\n      <td>56.970001</td>\n      <td>1.653700e+02</td>\n    </tr>\n    <tr>\n      <th>MFT_Predilutievolume_totaal</th>\n      <td>375154.0</td>\n      <td>68.462058</td>\n      <td>49.236978</td>\n      <td>0.000000e+00</td>\n      <td>5.07</td>\n      <td>58.509998</td>\n      <td>158.500000</td>\n      <td>2.214000e+02</td>\n    </tr>\n    <tr>\n      <th>MFT_Substituaat (ingesteld)</th>\n      <td>382678.0</td>\n      <td>2314.597270</td>\n      <td>543.358023</td>\n      <td>0.000000e+00</td>\n      <td>600.00</td>\n      <td>2400.000000</td>\n      <td>3000.000000</td>\n      <td>4.800000e+03</td>\n    </tr>\n    <tr>\n      <th>MFT_Substitutievolume_huidig</th>\n      <td>253655.0</td>\n      <td>22.316414</td>\n      <td>20.281898</td>\n      <td>0.000000e+00</td>\n      <td>1.06</td>\n      <td>17.110001</td>\n      <td>55.000000</td>\n      <td>1.584000e+02</td>\n    </tr>\n    <tr>\n      <th>MFT_Substitutievolume_totaal</th>\n      <td>253570.0</td>\n      <td>54.295299</td>\n      <td>44.327023</td>\n      <td>0.000000e+00</td>\n      <td>2.56</td>\n      <td>41.580002</td>\n      <td>141.230000</td>\n      <td>1.933900e+02</td>\n    </tr>\n    <tr>\n      <th>MFT_TMP</th>\n      <td>776757.0</td>\n      <td>72.689516</td>\n      <td>39.672579</td>\n      <td>-6.000000e+01</td>\n      <td>10.00</td>\n      <td>70.000000</td>\n      <td>150.000000</td>\n      <td>5.200000e+02</td>\n    </tr>\n    <tr>\n      <th>MFT_TMP bovengrens</th>\n      <td>744123.0</td>\n      <td>156.633096</td>\n      <td>77.653378</td>\n      <td>-6.000000e+01</td>\n      <td>90.00</td>\n      <td>140.000000</td>\n      <td>290.000000</td>\n      <td>5.200000e+02</td>\n    </tr>\n    <tr>\n      <th>MFT_TMP ondergrens</th>\n      <td>744121.0</td>\n      <td>-41.191677</td>\n      <td>33.305438</td>\n      <td>-6.000000e+01</td>\n      <td>-60.00</td>\n      <td>-60.000000</td>\n      <td>30.000000</td>\n      <td>3.600000e+02</td>\n    </tr>\n    <tr>\n      <th>MFT_Temperatuur (ingesteld)</th>\n      <td>671343.0</td>\n      <td>38.852102</td>\n      <td>1.488733</td>\n      <td>0.000000e+00</td>\n      <td>37.00</td>\n      <td>39.000000</td>\n      <td>39.000000</td>\n      <td>7.400000e+02</td>\n    </tr>\n    <tr>\n      <th>MFT_UF Totaal (ingesteld)</th>\n      <td>667608.0</td>\n      <td>0.049535</td>\n      <td>4.356618</td>\n      <td>0.000000e+00</td>\n      <td>0.00</td>\n      <td>0.000000</td>\n      <td>0.000000</td>\n      <td>2.700000e+03</td>\n    </tr>\n    <tr>\n      <th>MFT_Ultrafiltratie (ingesteld)</th>\n      <td>723888.0</td>\n      <td>92.382703</td>\n      <td>93.445219</td>\n      <td>-1.500000e+02</td>\n      <td>0.00</td>\n      <td>100.000000</td>\n      <td>250.000000</td>\n      <td>1.000000e+03</td>\n    </tr>\n    <tr>\n      <th>MFT_Veneuze bovengrens</th>\n      <td>744121.0</td>\n      <td>190.610411</td>\n      <td>71.045039</td>\n      <td>0.000000e+00</td>\n      <td>125.00</td>\n      <td>170.000000</td>\n      <td>300.000000</td>\n      <td>5.000000e+02</td>\n    </tr>\n    <tr>\n      <th>MFT_Veneuze druk</th>\n      <td>776388.0</td>\n      <td>72.094109</td>\n      <td>26.969520</td>\n      <td>-1.500000e+02</td>\n      <td>40.00</td>\n      <td>70.000000</td>\n      <td>120.000000</td>\n      <td>5.000000e+02</td>\n    </tr>\n    <tr>\n      <th>MFT_Veneuze ondergrens</th>\n      <td>744119.0</td>\n      <td>18.497285</td>\n      <td>28.454882</td>\n      <td>-8.000000e+01</td>\n      <td>0.00</td>\n      <td>10.000000</td>\n      <td>60.000000</td>\n      <td>4.800000e+02</td>\n    </tr>\n    <tr>\n      <th>MVe Spontaan nieuw</th>\n      <td>6857837.0</td>\n      <td>7.933335</td>\n      <td>5.290882</td>\n      <td>0.000000e+00</td>\n      <td>0.00</td>\n      <td>8.500000</td>\n      <td>16.299999</td>\n      <td>6.400000e+02</td>\n    </tr>\n    <tr>\n      <th>Mean luchtweg druk</th>\n      <td>7660509.0</td>\n      <td>11.273311</td>\n      <td>4.213934</td>\n      <td>0.000000e+00</td>\n      <td>6.00</td>\n      <td>10.000000</td>\n      <td>19.000000</td>\n      <td>6.800000e+01</td>\n    </tr>\n    <tr>\n      <th>NIV Backup RR (Set)</th>\n      <td>3079960.0</td>\n      <td>14.846672</td>\n      <td>2.137053</td>\n      <td>0.000000e+00</td>\n      <td>15.00</td>\n      <td>15.000000</td>\n      <td>15.000000</td>\n      <td>2.800000e+01</td>\n    </tr>\n    <tr>\n      <th>NIV Backup Ti (Set)</th>\n      <td>3079903.0</td>\n      <td>1.002202</td>\n      <td>0.053399</td>\n      <td>0.000000e+00</td>\n      <td>1.00</td>\n      <td>1.000000</td>\n      <td>1.000000</td>\n      <td>5.000000e+00</td>\n    </tr>\n    <tr>\n      <th>O2 concentratie</th>\n      <td>7671552.0</td>\n      <td>43.925153</td>\n      <td>924.463623</td>\n      <td>0.000000e+00</td>\n      <td>26.00</td>\n      <td>41.000000</td>\n      <td>65.000000</td>\n      <td>2.393872e+06</td>\n    </tr>\n    <tr>\n      <th>O2 concentratie (Set)</th>\n      <td>7671656.0</td>\n      <td>43.113385</td>\n      <td>12.473858</td>\n      <td>0.000000e+00</td>\n      <td>25.00</td>\n      <td>40.000000</td>\n      <td>65.000000</td>\n      <td>7.400000e+02</td>\n    </tr>\n    <tr>\n      <th>O2 l/min</th>\n      <td>223771.0</td>\n      <td>5.235922</td>\n      <td>3.448014</td>\n      <td>-5.000000e+00</td>\n      <td>1.00</td>\n      <td>5.000000</td>\n      <td>12.000000</td>\n      <td>1.150000e+02</td>\n    </tr>\n    <tr>\n      <th>O2-Saturatie (bloed)</th>\n      <td>233976.0</td>\n      <td>0.979703</td>\n      <td>1.502861</td>\n      <td>-9.700000e-01</td>\n      <td>0.88</td>\n      <td>0.980000</td>\n      <td>0.990000</td>\n      <td>9.980000e+01</td>\n    </tr>\n    <tr>\n      <th>P Bovenste (Set)</th>\n      <td>7670831.0</td>\n      <td>41.807669</td>\n      <td>8.637085</td>\n      <td>0.000000e+00</td>\n      <td>35.00</td>\n      <td>40.000000</td>\n      <td>58.000000</td>\n      <td>2.048000e+03</td>\n    </tr>\n    <tr>\n      <th>PAP diastolisch</th>\n      <td>724923.0</td>\n      <td>16.332117</td>\n      <td>66.892717</td>\n      <td>-3.270000e+04</td>\n      <td>7.00</td>\n      <td>16.000000</td>\n      <td>28.000000</td>\n      <td>3.140000e+02</td>\n    </tr>\n    <tr>\n      <th>PAP gemiddeld</th>\n      <td>727985.0</td>\n      <td>22.876820</td>\n      <td>39.165122</td>\n      <td>-3.270000e+04</td>\n      <td>12.00</td>\n      <td>22.000000</td>\n      <td>36.000000</td>\n      <td>3.140000e+02</td>\n    </tr>\n    <tr>\n      <th>PAP systolisch</th>\n      <td>727755.0</td>\n      <td>34.177071</td>\n      <td>55.866243</td>\n      <td>-3.270000e+04</td>\n      <td>19.00</td>\n      <td>32.000000</td>\n      <td>55.000000</td>\n      <td>5.736000e+03</td>\n    </tr>\n    <tr>\n      <th>PC boven PEEP (Set)</th>\n      <td>2245559.0</td>\n      <td>14.429989</td>\n      <td>5.090960</td>\n      <td>0.000000e+00</td>\n      <td>8.00</td>\n      <td>14.000000</td>\n      <td>24.000000</td>\n      <td>2.180000e+02</td>\n    </tr>\n    <tr>\n      <th>PEEP (Set)</th>\n      <td>7672035.0</td>\n      <td>8.402158</td>\n      <td>3.178909</td>\n      <td>0.000000e+00</td>\n      <td>5.00</td>\n      <td>8.000000</td>\n      <td>14.000000</td>\n      <td>8.500000e+01</td>\n    </tr>\n    <tr>\n      <th>PO2 (bloed)</th>\n      <td>235006.0</td>\n      <td>96.547067</td>\n      <td>36.813401</td>\n      <td>0.000000e+00</td>\n      <td>55.00</td>\n      <td>90.000000</td>\n      <td>158.000000</td>\n      <td>6.720000e+02</td>\n    </tr>\n    <tr>\n      <th>PS boven PEEP (Set)</th>\n      <td>5073083.0</td>\n      <td>5.941531</td>\n      <td>5.263585</td>\n      <td>0.000000e+00</td>\n      <td>0.00</td>\n      <td>5.000000</td>\n      <td>15.000000</td>\n      <td>2.450000e+02</td>\n    </tr>\n    <tr>\n      <th>Piek druk</th>\n      <td>7660593.0</td>\n      <td>18.340666</td>\n      <td>7.512109</td>\n      <td>0.000000e+00</td>\n      <td>8.00</td>\n      <td>17.000000</td>\n      <td>32.000000</td>\n      <td>9.180000e+02</td>\n    </tr>\n    <tr>\n      <th>SBI (Zwakke ademhalingsindex)</th>\n      <td>4875252.0</td>\n      <td>71.188173</td>\n      <td>260.081888</td>\n      <td>0.000000e+00</td>\n      <td>15.00</td>\n      <td>44.000000</td>\n      <td>127.000000</td>\n      <td>9.995000e+03</td>\n    </tr>\n    <tr>\n      <th>SIMV ademcyclus (Set)</th>\n      <td>945009.0</td>\n      <td>3.283731</td>\n      <td>0.824532</td>\n      <td>0.000000e+00</td>\n      <td>2.00</td>\n      <td>3.300000</td>\n      <td>4.600000</td>\n      <td>4.000000e+01</td>\n    </tr>\n    <tr>\n      <th>ST segment analyse afleiding</th>\n      <td>13264188.0</td>\n      <td>-0.083354</td>\n      <td>23.764318</td>\n      <td>-3.270000e+03</td>\n      <td>-0.50</td>\n      <td>0.100000</td>\n      <td>0.800000</td>\n      <td>3.173900e+03</td>\n    </tr>\n    <tr>\n      <th>ST segment analyse afleiding AVF</th>\n      <td>11385886.0</td>\n      <td>0.178097</td>\n      <td>12.442000</td>\n      <td>-1.573000e+03</td>\n      <td>-0.50</td>\n      <td>0.000000</td>\n      <td>0.700000</td>\n      <td>2.033200e+03</td>\n    </tr>\n    <tr>\n      <th>ST segment analyse afleiding AVL</th>\n      <td>11385880.0</td>\n      <td>-0.145481</td>\n      <td>14.222076</td>\n      <td>-1.769900e+03</td>\n      <td>-0.50</td>\n      <td>0.000000</td>\n      <td>0.500000</td>\n      <td>1.965500e+03</td>\n    </tr>\n    <tr>\n      <th>ST segment analyse afleiding AVR</th>\n      <td>11385885.0</td>\n      <td>0.039221</td>\n      <td>13.144449</td>\n      <td>-1.900800e+03</td>\n      <td>-0.70</td>\n      <td>0.000000</td>\n      <td>0.500000</td>\n      <td>1.573300e+03</td>\n    </tr>\n    <tr>\n      <th>ST segment analyse afleiding I</th>\n      <td>12814451.0</td>\n      <td>-0.109091</td>\n      <td>24.408674</td>\n      <td>-3.270000e+03</td>\n      <td>-0.50</td>\n      <td>0.000000</td>\n      <td>0.700000</td>\n      <td>2.124800e+03</td>\n    </tr>\n    <tr>\n      <th>ST segment analyse afleiding II</th>\n      <td>13456817.0</td>\n      <td>0.043714</td>\n      <td>22.849286</td>\n      <td>-3.270000e+03</td>\n      <td>-0.60</td>\n      <td>0.100000</td>\n      <td>0.900000</td>\n      <td>1.900400e+03</td>\n    </tr>\n    <tr>\n      <th>ST segment analyse afleiding V1</th>\n      <td>10249258.0</td>\n      <td>0.341627</td>\n      <td>9.710538</td>\n      <td>-8.520000e+02</td>\n      <td>-0.40</td>\n      <td>0.200000</td>\n      <td>1.200000</td>\n      <td>1.048300e+03</td>\n    </tr>\n    <tr>\n      <th>ST segment analyse afleiding V2</th>\n      <td>10141686.0</td>\n      <td>0.887931</td>\n      <td>18.718877</td>\n      <td>-1.850000e+01</td>\n      <td>-0.30</td>\n      <td>0.600000</td>\n      <td>2.200000</td>\n      <td>2.030400e+03</td>\n    </tr>\n    <tr>\n      <th>ST segment analyse afleiding V3</th>\n      <td>10122487.0</td>\n      <td>0.616189</td>\n      <td>6.489955</td>\n      <td>-1.966400e+03</td>\n      <td>-0.40</td>\n      <td>0.500000</td>\n      <td>2.100000</td>\n      <td>1.899000e+03</td>\n    </tr>\n    <tr>\n      <th>ST segment analyse afleiding V4</th>\n      <td>10115636.0</td>\n      <td>0.282198</td>\n      <td>10.457239</td>\n      <td>-1.508900e+03</td>\n      <td>-0.70</td>\n      <td>0.200000</td>\n      <td>1.300000</td>\n      <td>1.900400e+03</td>\n    </tr>\n    <tr>\n      <th>ST segment analyse afleiding V5</th>\n      <td>10100994.0</td>\n      <td>-0.037143</td>\n      <td>9.393733</td>\n      <td>-1.312100e+03</td>\n      <td>-0.80</td>\n      <td>0.000000</td>\n      <td>0.800000</td>\n      <td>1.899900e+03</td>\n    </tr>\n    <tr>\n      <th>ST segment analyse afleiding V6</th>\n      <td>10016655.0</td>\n      <td>0.032404</td>\n      <td>10.494809</td>\n      <td>-9.178000e+02</td>\n      <td>-0.80</td>\n      <td>0.000000</td>\n      <td>0.600000</td>\n      <td>1.834400e+03</td>\n    </tr>\n    <tr>\n      <th>Saturatie (Monitor)</th>\n      <td>16165223.0</td>\n      <td>96.070778</td>\n      <td>5.836342</td>\n      <td>0.000000e+00</td>\n      <td>91.00</td>\n      <td>96.000000</td>\n      <td>100.000000</td>\n      <td>1.009900e+04</td>\n    </tr>\n    <tr>\n      <th>Temp Blaas</th>\n      <td>463653.0</td>\n      <td>37.181702</td>\n      <td>1.089118</td>\n      <td>9.000000e+00</td>\n      <td>35.70</td>\n      <td>37.300000</td>\n      <td>38.500000</td>\n      <td>4.050000e+01</td>\n    </tr>\n    <tr>\n      <th>Temp Bloed</th>\n      <td>829765.0</td>\n      <td>36.708895</td>\n      <td>1.205579</td>\n      <td>0.000000e+00</td>\n      <td>35.50</td>\n      <td>36.800000</td>\n      <td>37.900000</td>\n      <td>3.710000e+02</td>\n    </tr>\n    <tr>\n      <th>Temp Huid</th>\n      <td>929856.0</td>\n      <td>36.610581</td>\n      <td>2.583231</td>\n      <td>1.640000e+01</td>\n      <td>33.20</td>\n      <td>37.000000</td>\n      <td>38.800000</td>\n      <td>4.070000e+01</td>\n    </tr>\n    <tr>\n      <th>Temp Oesophagus</th>\n      <td>509517.0</td>\n      <td>36.466869</td>\n      <td>2.095062</td>\n      <td>0.000000e+00</td>\n      <td>33.00</td>\n      <td>36.800000</td>\n      <td>38.300000</td>\n      <td>3.750000e+02</td>\n    </tr>\n    <tr>\n      <th>Temp Rectaal</th>\n      <td>247271.0</td>\n      <td>36.222947</td>\n      <td>2.307434</td>\n      <td>0.000000e+00</td>\n      <td>32.40</td>\n      <td>36.800000</td>\n      <td>38.500000</td>\n      <td>3.730000e+02</td>\n    </tr>\n    <tr>\n      <th>Ti (sec) nieuw</th>\n      <td>2492067.0</td>\n      <td>0.999396</td>\n      <td>0.518672</td>\n      <td>0.000000e+00</td>\n      <td>0.60</td>\n      <td>1.000000</td>\n      <td>1.400000</td>\n      <td>3.330000e+02</td>\n    </tr>\n    <tr>\n      <th>UrineCAD</th>\n      <td>654068.0</td>\n      <td>136.006793</td>\n      <td>193.060026</td>\n      <td>0.000000e+00</td>\n      <td>15.00</td>\n      <td>100.000000</td>\n      <td>380.000000</td>\n      <td>1.223480e+05</td>\n    </tr>\n    <tr>\n      <th>WOBv</th>\n      <td>7410841.0</td>\n      <td>0.759636</td>\n      <td>0.559541</td>\n      <td>0.000000e+00</td>\n      <td>0.07</td>\n      <td>0.720000</td>\n      <td>1.720000</td>\n      <td>2.001000e+01</td>\n    </tr>\n    <tr>\n      <th>pCO2 (bloed)</th>\n      <td>236487.0</td>\n      <td>41.758300</td>\n      <td>12.004264</td>\n      <td>-1.000000e+00</td>\n      <td>30.00</td>\n      <td>40.000000</td>\n      <td>58.000000</td>\n      <td>3.537000e+03</td>\n    </tr>\n    <tr>\n      <th>pH (bloed)</th>\n      <td>235790.0</td>\n      <td>8.297987</td>\n      <td>72.352773</td>\n      <td>0.000000e+00</td>\n      <td>7.24</td>\n      <td>7.410000</td>\n      <td>7.500000</td>\n      <td>7.522000e+03</td>\n    </tr>\n  </tbody>\n</table>\n</div>"
     },
     "metadata": {},
     "execution_count": 17
    }
   ],
   "source": [
    "stats = num.groupby(\"item\")[\"value\"].describe(percentiles=[0.05, 0.5, 0.95])\n",
    "stats"
   ]
  },
  {
   "cell_type": "code",
   "execution_count": 21,
   "metadata": {},
   "outputs": [
    {
     "output_type": "display_data",
     "data": {
      "text/plain": "HBox(children=(FloatProgress(value=1.0, bar_style='info', max=1.0), HTML(value='')))",
      "application/vnd.jupyter.widget-view+json": {
       "version_major": 2,
       "version_minor": 0,
       "model_id": "8e72c7506a3943368050c69cf7a4ef02"
      }
     },
     "metadata": {}
    },
    {
     "output_type": "stream",
     "name": "stdout",
     "text": [
      "\n"
     ]
    }
   ],
   "source": [
    "for item, lb, ub in tqdm_notebook(zip(stats.index, stats[\"5%\"], stats[\"95%\"]), total=100):\n",
    "    num = num.drop(num.loc[(num[\"item\"] == item) & ((num[\"value\"] < lb) | (ub < num[\"value\"]))].index)"
   ]
  },
  {
   "cell_type": "code",
   "execution_count": 22,
   "metadata": {},
   "outputs": [
    {
     "output_type": "execute_result",
     "data": {
      "text/plain": [
       "(413365459, 6)"
      ]
     },
     "metadata": {},
     "execution_count": 22
    }
   ],
   "source": [
    "num.shape"
   ]
  },
  {
   "cell_type": "code",
   "execution_count": 14,
   "metadata": {},
   "outputs": [
    {
     "output_type": "error",
     "ename": "ValueError",
     "evalue": "num must be 1 <= num <= 50, not 51",
     "traceback": [
      "\u001b[1;31m---------------------------------------------------------------------------\u001b[0m",
      "\u001b[1;31mValueError\u001b[0m                                Traceback (most recent call last)",
      "\u001b[1;32m<ipython-input-14-910c231dbe2c>\u001b[0m in \u001b[0;36m<module>\u001b[1;34m\u001b[0m\n\u001b[0;32m      1\u001b[0m \u001b[0mplt\u001b[0m\u001b[1;33m.\u001b[0m\u001b[0mfigure\u001b[0m\u001b[1;33m(\u001b[0m\u001b[0mfigsize\u001b[0m\u001b[1;33m=\u001b[0m\u001b[1;33m(\u001b[0m\u001b[1;36m20\u001b[0m\u001b[1;33m,\u001b[0m \u001b[1;36m40\u001b[0m\u001b[1;33m)\u001b[0m\u001b[1;33m)\u001b[0m\u001b[1;33m\u001b[0m\u001b[1;33m\u001b[0m\u001b[0m\n\u001b[0;32m      2\u001b[0m \u001b[1;32mfor\u001b[0m \u001b[0mi\u001b[0m\u001b[1;33m,\u001b[0m \u001b[0mitem\u001b[0m \u001b[1;32min\u001b[0m \u001b[0menumerate\u001b[0m\u001b[1;33m(\u001b[0m\u001b[0msorted\u001b[0m\u001b[1;33m(\u001b[0m\u001b[0mnum\u001b[0m\u001b[1;33m[\u001b[0m\u001b[1;34m\"item\"\u001b[0m\u001b[1;33m]\u001b[0m\u001b[1;33m.\u001b[0m\u001b[0munique\u001b[0m\u001b[1;33m(\u001b[0m\u001b[1;33m)\u001b[0m\u001b[1;33m)\u001b[0m\u001b[1;33m)\u001b[0m\u001b[1;33m:\u001b[0m\u001b[1;33m\u001b[0m\u001b[1;33m\u001b[0m\u001b[0m\n\u001b[1;32m----> 3\u001b[1;33m     \u001b[0mplt\u001b[0m\u001b[1;33m.\u001b[0m\u001b[0msubplot\u001b[0m\u001b[1;33m(\u001b[0m\u001b[1;36m10\u001b[0m\u001b[1;33m,\u001b[0m \u001b[1;36m5\u001b[0m\u001b[1;33m,\u001b[0m \u001b[1;36m1\u001b[0m\u001b[1;33m+\u001b[0m\u001b[0mi\u001b[0m\u001b[1;33m)\u001b[0m\u001b[1;33m\u001b[0m\u001b[1;33m\u001b[0m\u001b[0m\n\u001b[0m\u001b[0;32m      4\u001b[0m     \u001b[0mnum\u001b[0m\u001b[1;33m[\u001b[0m\u001b[1;34m\"value\"\u001b[0m\u001b[1;33m]\u001b[0m\u001b[1;33m[\u001b[0m\u001b[0mnum\u001b[0m\u001b[1;33m[\u001b[0m\u001b[1;34m\"item\"\u001b[0m\u001b[1;33m]\u001b[0m \u001b[1;33m==\u001b[0m \u001b[0mitem\u001b[0m\u001b[1;33m]\u001b[0m\u001b[1;33m.\u001b[0m\u001b[0mhist\u001b[0m\u001b[1;33m(\u001b[0m\u001b[0mbins\u001b[0m\u001b[1;33m=\u001b[0m\u001b[1;36m100\u001b[0m\u001b[1;33m)\u001b[0m\u001b[1;33m\u001b[0m\u001b[1;33m\u001b[0m\u001b[0m\n\u001b[0;32m      5\u001b[0m     \u001b[0mplt\u001b[0m\u001b[1;33m.\u001b[0m\u001b[0mtitle\u001b[0m\u001b[1;33m(\u001b[0m\u001b[0mitem\u001b[0m\u001b[1;33m)\u001b[0m\u001b[1;33m\u001b[0m\u001b[1;33m\u001b[0m\u001b[0m\n",
      "\u001b[1;32m~\\AppData\\Local\\Programs\\Python\\Python37\\lib\\site-packages\\matplotlib\\pyplot.py\u001b[0m in \u001b[0;36msubplot\u001b[1;34m(*args, **kwargs)\u001b[0m\n\u001b[0;32m   1028\u001b[0m \u001b[1;33m\u001b[0m\u001b[0m\n\u001b[0;32m   1029\u001b[0m     \u001b[0mfig\u001b[0m \u001b[1;33m=\u001b[0m \u001b[0mgcf\u001b[0m\u001b[1;33m(\u001b[0m\u001b[1;33m)\u001b[0m\u001b[1;33m\u001b[0m\u001b[1;33m\u001b[0m\u001b[0m\n\u001b[1;32m-> 1030\u001b[1;33m     \u001b[0ma\u001b[0m \u001b[1;33m=\u001b[0m \u001b[0mfig\u001b[0m\u001b[1;33m.\u001b[0m\u001b[0madd_subplot\u001b[0m\u001b[1;33m(\u001b[0m\u001b[1;33m*\u001b[0m\u001b[0margs\u001b[0m\u001b[1;33m,\u001b[0m \u001b[1;33m**\u001b[0m\u001b[0mkwargs\u001b[0m\u001b[1;33m)\u001b[0m\u001b[1;33m\u001b[0m\u001b[1;33m\u001b[0m\u001b[0m\n\u001b[0m\u001b[0;32m   1031\u001b[0m     \u001b[0mbbox\u001b[0m \u001b[1;33m=\u001b[0m \u001b[0ma\u001b[0m\u001b[1;33m.\u001b[0m\u001b[0mbbox\u001b[0m\u001b[1;33m\u001b[0m\u001b[1;33m\u001b[0m\u001b[0m\n\u001b[0;32m   1032\u001b[0m     \u001b[0mbyebye\u001b[0m \u001b[1;33m=\u001b[0m \u001b[1;33m[\u001b[0m\u001b[1;33m]\u001b[0m\u001b[1;33m\u001b[0m\u001b[1;33m\u001b[0m\u001b[0m\n",
      "\u001b[1;32m~\\AppData\\Local\\Programs\\Python\\Python37\\lib\\site-packages\\matplotlib\\figure.py\u001b[0m in \u001b[0;36madd_subplot\u001b[1;34m(self, *args, **kwargs)\u001b[0m\n\u001b[0;32m   1417\u001b[0m                     \u001b[0mself\u001b[0m\u001b[1;33m.\u001b[0m\u001b[0m_axstack\u001b[0m\u001b[1;33m.\u001b[0m\u001b[0mremove\u001b[0m\u001b[1;33m(\u001b[0m\u001b[0max\u001b[0m\u001b[1;33m)\u001b[0m\u001b[1;33m\u001b[0m\u001b[1;33m\u001b[0m\u001b[0m\n\u001b[0;32m   1418\u001b[0m \u001b[1;33m\u001b[0m\u001b[0m\n\u001b[1;32m-> 1419\u001b[1;33m             \u001b[0ma\u001b[0m \u001b[1;33m=\u001b[0m \u001b[0msubplot_class_factory\u001b[0m\u001b[1;33m(\u001b[0m\u001b[0mprojection_class\u001b[0m\u001b[1;33m)\u001b[0m\u001b[1;33m(\u001b[0m\u001b[0mself\u001b[0m\u001b[1;33m,\u001b[0m \u001b[1;33m*\u001b[0m\u001b[0margs\u001b[0m\u001b[1;33m,\u001b[0m \u001b[1;33m**\u001b[0m\u001b[0mkwargs\u001b[0m\u001b[1;33m)\u001b[0m\u001b[1;33m\u001b[0m\u001b[1;33m\u001b[0m\u001b[0m\n\u001b[0m\u001b[0;32m   1420\u001b[0m \u001b[1;33m\u001b[0m\u001b[0m\n\u001b[0;32m   1421\u001b[0m         \u001b[1;32mreturn\u001b[0m \u001b[0mself\u001b[0m\u001b[1;33m.\u001b[0m\u001b[0m_add_axes_internal\u001b[0m\u001b[1;33m(\u001b[0m\u001b[0mkey\u001b[0m\u001b[1;33m,\u001b[0m \u001b[0ma\u001b[0m\u001b[1;33m)\u001b[0m\u001b[1;33m\u001b[0m\u001b[1;33m\u001b[0m\u001b[0m\n",
      "\u001b[1;32m~\\AppData\\Local\\Programs\\Python\\Python37\\lib\\site-packages\\matplotlib\\axes\\_subplots.py\u001b[0m in \u001b[0;36m__init__\u001b[1;34m(self, fig, *args, **kwargs)\u001b[0m\n\u001b[0;32m     64\u001b[0m                 \u001b[1;32mif\u001b[0m \u001b[0mnum\u001b[0m \u001b[1;33m<\u001b[0m \u001b[1;36m1\u001b[0m \u001b[1;32mor\u001b[0m \u001b[0mnum\u001b[0m \u001b[1;33m>\u001b[0m \u001b[0mrows\u001b[0m\u001b[1;33m*\u001b[0m\u001b[0mcols\u001b[0m\u001b[1;33m:\u001b[0m\u001b[1;33m\u001b[0m\u001b[1;33m\u001b[0m\u001b[0m\n\u001b[0;32m     65\u001b[0m                     raise ValueError(\n\u001b[1;32m---> 66\u001b[1;33m                         f\"num must be 1 <= num <= {rows*cols}, not {num}\")\n\u001b[0m\u001b[0;32m     67\u001b[0m                 self._subplotspec = GridSpec(\n\u001b[0;32m     68\u001b[0m                         rows, cols, figure=self.figure)[int(num) - 1]\n",
      "\u001b[1;31mValueError\u001b[0m: num must be 1 <= num <= 50, not 51"
     ]
    }
   ],
   "source": [
    "plt.figure(figsize=(20, 80))\n",
    "for i, item in enumerate(sorted(num[\"item\"].unique())):\n",
    "    plt.subplot(20, 5, 1+i)\n",
    "    num[\"value\"][num[\"item\"] == item].hist(bins=100)\n",
    "    plt.title(item)"
   ]
  },
  {
   "cell_type": "code",
   "execution_count": null,
   "metadata": {},
   "outputs": [],
   "source": []
  }
 ]
}