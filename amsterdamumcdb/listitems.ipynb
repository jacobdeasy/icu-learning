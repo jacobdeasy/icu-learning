{
 "metadata": {
  "language_info": {
   "codemirror_mode": {
    "name": "ipython",
    "version": 3
   },
   "file_extension": ".py",
   "mimetype": "text/x-python",
   "name": "python",
   "nbconvert_exporter": "python",
   "pygments_lexer": "ipython3",
   "version": "3.7.7-final"
  },
  "orig_nbformat": 2,
  "kernelspec": {
   "name": "python37764bit300a028a89174507b581fdf390bc3083",
   "display_name": "Python 3.7.7 64-bit",
   "language": "python"
  }
 },
 "nbformat": 4,
 "nbformat_minor": 2,
 "cells": [
  {
   "cell_type": "code",
   "execution_count": 1,
   "metadata": {},
   "outputs": [],
   "source": [
    "import matplotlib.pyplot as plt\n",
    "import numpy as np\n",
    "import os\n",
    "import pandas as pd"
   ]
  },
  {
   "cell_type": "code",
   "execution_count": 2,
   "metadata": {},
   "outputs": [],
   "source": [
    "pd.set_option('display.max_rows', 500)"
   ]
  },
  {
   "cell_type": "code",
   "execution_count": 3,
   "metadata": {},
   "outputs": [],
   "source": [
    "file_path = 'C:/Users/Jacob/Documents/datasets/amsterdamumcdb-1.0.2/'\n",
    "save_path = 'C:/Users/Jacob/Documents/datasets/amsterdamumcdb-1.0.2-processed/'\n",
    "if not os.path.exists(save_path):\n",
    "    os.mkdir(save_path)"
   ]
  },
  {
   "cell_type": "code",
   "execution_count": 4,
   "metadata": {},
   "outputs": [
    {
     "output_type": "execute_result",
     "data": {
      "text/plain": [
       "   Unnamed: 0  patientid  admissionid  admissioncount location  urgency  \\\n",
       "0           4          4            4               1    IC&MC        0   \n",
       "1           5          5            5               1       IC        1   \n",
       "2           9          9            9               1       IC        0   \n",
       "3          12         12           12               1       IC        0   \n",
       "4          15         14           15               1       IC        1   \n",
       "\n",
       "                                   origin  admittedat admissionyeargroup  \\\n",
       "0      Verpleegafdeling zelfde ziekenhuis           0          2010-2016   \n",
       "1  Eerste Hulp afdeling zelfde ziekenhuis           0          2010-2016   \n",
       "2                                     NaN           0          2003-2009   \n",
       "3                                     NaN           0          2003-2009   \n",
       "4  Eerste Hulp afdeling zelfde ziekenhuis           0          2010-2016   \n",
       "\n",
       "   dischargedat  ...  destination gender agegroup  dateofdeath  weightgroup  \\\n",
       "0     180900000  ...           19    Man    70-79          NaN        70-79   \n",
       "1     246420000  ...           31    Man    50-59          NaN        60-69   \n",
       "2     242040000  ...           15  Vrouw    70-79          NaN        70-79   \n",
       "3     627960000  ...           29    Man    18-39          NaN        90-99   \n",
       "4     893220000  ...    Overleden    Man    60-69  812280000.0        60-69   \n",
       "\n",
       "   weightsource heightgroup  heightsource        specialty icudeath  \n",
       "0  Anamnestisch     170-179  Anamnestisch  Cardiochirurgie    False  \n",
       "1       Geschat     160-169       Gemeten       Longziekte    False  \n",
       "2           NaN        159-           NaN  Cardiochirurgie    False  \n",
       "3           NaN         NaN           NaN              NaN    False  \n",
       "4       Geschat     160-169       Geschat      Cardiologie     True  \n",
       "\n",
       "[5 rows x 21 columns]"
      ],
      "text/html": "<div>\n<style scoped>\n    .dataframe tbody tr th:only-of-type {\n        vertical-align: middle;\n    }\n\n    .dataframe tbody tr th {\n        vertical-align: top;\n    }\n\n    .dataframe thead th {\n        text-align: right;\n    }\n</style>\n<table border=\"1\" class=\"dataframe\">\n  <thead>\n    <tr style=\"text-align: right;\">\n      <th></th>\n      <th>Unnamed: 0</th>\n      <th>patientid</th>\n      <th>admissionid</th>\n      <th>admissioncount</th>\n      <th>location</th>\n      <th>urgency</th>\n      <th>origin</th>\n      <th>admittedat</th>\n      <th>admissionyeargroup</th>\n      <th>dischargedat</th>\n      <th>...</th>\n      <th>destination</th>\n      <th>gender</th>\n      <th>agegroup</th>\n      <th>dateofdeath</th>\n      <th>weightgroup</th>\n      <th>weightsource</th>\n      <th>heightgroup</th>\n      <th>heightsource</th>\n      <th>specialty</th>\n      <th>icudeath</th>\n    </tr>\n  </thead>\n  <tbody>\n    <tr>\n      <th>0</th>\n      <td>4</td>\n      <td>4</td>\n      <td>4</td>\n      <td>1</td>\n      <td>IC&amp;MC</td>\n      <td>0</td>\n      <td>Verpleegafdeling zelfde ziekenhuis</td>\n      <td>0</td>\n      <td>2010-2016</td>\n      <td>180900000</td>\n      <td>...</td>\n      <td>19</td>\n      <td>Man</td>\n      <td>70-79</td>\n      <td>NaN</td>\n      <td>70-79</td>\n      <td>Anamnestisch</td>\n      <td>170-179</td>\n      <td>Anamnestisch</td>\n      <td>Cardiochirurgie</td>\n      <td>False</td>\n    </tr>\n    <tr>\n      <th>1</th>\n      <td>5</td>\n      <td>5</td>\n      <td>5</td>\n      <td>1</td>\n      <td>IC</td>\n      <td>1</td>\n      <td>Eerste Hulp afdeling zelfde ziekenhuis</td>\n      <td>0</td>\n      <td>2010-2016</td>\n      <td>246420000</td>\n      <td>...</td>\n      <td>31</td>\n      <td>Man</td>\n      <td>50-59</td>\n      <td>NaN</td>\n      <td>60-69</td>\n      <td>Geschat</td>\n      <td>160-169</td>\n      <td>Gemeten</td>\n      <td>Longziekte</td>\n      <td>False</td>\n    </tr>\n    <tr>\n      <th>2</th>\n      <td>9</td>\n      <td>9</td>\n      <td>9</td>\n      <td>1</td>\n      <td>IC</td>\n      <td>0</td>\n      <td>NaN</td>\n      <td>0</td>\n      <td>2003-2009</td>\n      <td>242040000</td>\n      <td>...</td>\n      <td>15</td>\n      <td>Vrouw</td>\n      <td>70-79</td>\n      <td>NaN</td>\n      <td>70-79</td>\n      <td>NaN</td>\n      <td>159-</td>\n      <td>NaN</td>\n      <td>Cardiochirurgie</td>\n      <td>False</td>\n    </tr>\n    <tr>\n      <th>3</th>\n      <td>12</td>\n      <td>12</td>\n      <td>12</td>\n      <td>1</td>\n      <td>IC</td>\n      <td>0</td>\n      <td>NaN</td>\n      <td>0</td>\n      <td>2003-2009</td>\n      <td>627960000</td>\n      <td>...</td>\n      <td>29</td>\n      <td>Man</td>\n      <td>18-39</td>\n      <td>NaN</td>\n      <td>90-99</td>\n      <td>NaN</td>\n      <td>NaN</td>\n      <td>NaN</td>\n      <td>NaN</td>\n      <td>False</td>\n    </tr>\n    <tr>\n      <th>4</th>\n      <td>15</td>\n      <td>14</td>\n      <td>15</td>\n      <td>1</td>\n      <td>IC</td>\n      <td>1</td>\n      <td>Eerste Hulp afdeling zelfde ziekenhuis</td>\n      <td>0</td>\n      <td>2010-2016</td>\n      <td>893220000</td>\n      <td>...</td>\n      <td>Overleden</td>\n      <td>Man</td>\n      <td>60-69</td>\n      <td>812280000.0</td>\n      <td>60-69</td>\n      <td>Geschat</td>\n      <td>160-169</td>\n      <td>Geschat</td>\n      <td>Cardiologie</td>\n      <td>True</td>\n    </tr>\n  </tbody>\n</table>\n<p>5 rows × 21 columns</p>\n</div>"
     },
     "metadata": {},
     "execution_count": 4
    }
   ],
   "source": [
    "adm = pd.read_csv(os.path.join(save_path, 'admissions.csv'))\n",
    "adm.head()"
   ]
  },
  {
   "source": [
    "## List items data"
   ],
   "cell_type": "markdown",
   "metadata": {}
  },
  {
   "cell_type": "code",
   "execution_count": 5,
   "metadata": {},
   "outputs": [
    {
     "output_type": "stream",
     "name": "stdout",
     "text": [
      "(30744065, 5)\n",
      "(13612059, 5)\n"
     ]
    },
    {
     "output_type": "execute_result",
     "data": {
      "text/plain": [
       "     admissionid       item      value  measuredat  islabresult\n",
       "608            4  Hartritme        NSR    13680000            0\n",
       "609            4  Hartritme        NSR    17280000            0\n",
       "610            4  Hartritme  P.M-ritme    20880000            0\n",
       "611            4  Hartritme        NSR    20880000            0\n",
       "612            4  Hartritme        NSR    24480000            0"
      ],
      "text/html": "<div>\n<style scoped>\n    .dataframe tbody tr th:only-of-type {\n        vertical-align: middle;\n    }\n\n    .dataframe tbody tr th {\n        vertical-align: top;\n    }\n\n    .dataframe thead th {\n        text-align: right;\n    }\n</style>\n<table border=\"1\" class=\"dataframe\">\n  <thead>\n    <tr style=\"text-align: right;\">\n      <th></th>\n      <th>admissionid</th>\n      <th>item</th>\n      <th>value</th>\n      <th>measuredat</th>\n      <th>islabresult</th>\n    </tr>\n  </thead>\n  <tbody>\n    <tr>\n      <th>608</th>\n      <td>4</td>\n      <td>Hartritme</td>\n      <td>NSR</td>\n      <td>13680000</td>\n      <td>0</td>\n    </tr>\n    <tr>\n      <th>609</th>\n      <td>4</td>\n      <td>Hartritme</td>\n      <td>NSR</td>\n      <td>17280000</td>\n      <td>0</td>\n    </tr>\n    <tr>\n      <th>610</th>\n      <td>4</td>\n      <td>Hartritme</td>\n      <td>P.M-ritme</td>\n      <td>20880000</td>\n      <td>0</td>\n    </tr>\n    <tr>\n      <th>611</th>\n      <td>4</td>\n      <td>Hartritme</td>\n      <td>NSR</td>\n      <td>20880000</td>\n      <td>0</td>\n    </tr>\n    <tr>\n      <th>612</th>\n      <td>4</td>\n      <td>Hartritme</td>\n      <td>NSR</td>\n      <td>24480000</td>\n      <td>0</td>\n    </tr>\n  </tbody>\n</table>\n</div>"
     },
     "metadata": {},
     "execution_count": 5
    }
   ],
   "source": [
    "lst_cols = ['admissionid', 'item', 'value', 'measuredat', 'islabresult']\n",
    "lst = pd.read_csv(os.path.join(file_path, \"listitems.csv\"), encoding='latin-1', usecols=lst_cols)\n",
    "print(lst.shape)\n",
    "lst = lst.loc[lst[\"admissionid\"].isin(adm[\"admissionid\"])]\n",
    "print(lst.shape)\n",
    "lst.head()"
   ]
  },
  {
   "cell_type": "code",
   "execution_count": 6,
   "metadata": {},
   "outputs": [
    {
     "output_type": "stream",
     "name": "stdout",
     "text": [
      "Percentage lab results = 0.068 %\n"
     ]
    }
   ],
   "source": [
    "print(f'Percentage lab results = {lst[\"islabresult\"].sum() / len(lst) * 100:.3f} %')"
   ]
  },
  {
   "cell_type": "code",
   "execution_count": 7,
   "metadata": {},
   "outputs": [
    {
     "output_type": "stream",
     "name": "stdout",
     "text": [
      "(11523714, 5)\n"
     ]
    }
   ],
   "source": [
    "# Keep 20 most frequent items in listitems\n",
    "lst = lst.loc[lst[\"item\"].isin(lst[\"item\"].value_counts().index.to_list()[:20])]\n",
    "print(lst.shape)"
   ]
  },
  {
   "cell_type": "code",
   "execution_count": 8,
   "metadata": {},
   "outputs": [
    {
     "output_type": "execute_result",
     "data": {
      "text/plain": [
       "item                               value                                                             \n",
       "Aantal Bronchiaaltoilet            1x                                                                      52558\n",
       "                                   2x                                                                      39754\n",
       "                                   3x                                                                       7719\n",
       "                                   4x                                                                       1567\n",
       "                                   5x                                                                        335\n",
       "                                   6x                                                                        102\n",
       "                                   8x                                                                         61\n",
       "                                   7x                                                                         30\n",
       "Actief openen van de ogen          Spontane reactie                                                        40139\n",
       "                                   Geen reactie                                                            29284\n",
       "                                   Reactie op verbale prikkel                                              21265\n",
       "                                   Reactie op pijnprikkel                                                   7142\n",
       "Aspect Sputum                      Kleverig                                                                60968\n",
       "                                   Waterig                                                                 14722\n",
       "                                   Taai                                                                     7346\n",
       "Bedsoort                           Primo                                                                   26921\n",
       "                                   Standaard matras                                                        16764\n",
       "                                   Nimbus                                                                  13573\n",
       "                                   Duo                                                                      8745\n",
       "                                   Total  care                                                              6501\n",
       "                                   Zandbed                                                                  1966\n",
       "                                   Anders                                                                    871\n",
       "                                   Clinirest                                                                 794\n",
       "Beste motore reactie van de armen  Volgt verbale commando's op                                             42215\n",
       "                                   Geen reactie                                                            19259\n",
       "                                   Spastische reactie (terugtrekken)                                       13286\n",
       "                                   Localiseert pijn                                                        10932\n",
       "                                   Strekken                                                                 4973\n",
       "                                   Decortatie reflex (abnormaal buigen)                                     2305\n",
       "Beste verbale reactie              Geïntubeerd                                                             56118\n",
       "                                   Helder en adequaat (communicatie mogelijk)                              17970\n",
       "                                   Geen reactie (geen zichtbare poging tot praten)                         10127\n",
       "                                   Verwarde conversatie                                                     6592\n",
       "                                   Onbegrijpelijke geluiden                                                 4777\n",
       "                                   Onduidelijke woorden (pogingen tot communicatie, maar onduidelijk)       1860\n",
       "Hartritme                          NSR                                                                    477562\n",
       "                                   Sinus Tac                                                              151435\n",
       "                                   Atr fib                                                                 78669\n",
       "                                   Sinus bra                                                               47836\n",
       "                                   P.M-ritme                                                               20777\n",
       "                                   AVblock 1                                                                7657\n",
       "                                   Atr flut                                                                 4185\n",
       "                                   AV-Nodaal                                                                1934\n",
       "                                   Sinus ari                                                                1749\n",
       "                                   Junct                                                                    1266\n",
       "                                   VT                                                                       1249\n",
       "                                   Atr Tachy                                                                 888\n",
       "                                   SVT                                                                       855\n",
       "                                   AVblock 2                                                                 619\n",
       "                                   Ventriculair                                                              519\n",
       "                                   >QRS                                                                      501\n",
       "                                   AVblock 3                                                                 501\n",
       "                                   Sinus arr                                                                 243\n",
       "                                   Compl. blk                                                                111\n",
       "                                   AVblock 2:1                                                                97\n",
       "                                   VF                                                                         92\n",
       "                                   Asystolie                                                                  83\n",
       "                                   >QT-segment                                                                78\n",
       "                                   PAT                                                                        72\n",
       "                                   Ventr arr                                                                  61\n",
       "                                   ST-depr                                                                    56\n",
       "                                   Sinus blk                                                                  48\n",
       "                                   PAT-block                                                                  40\n",
       "                                   >ST-segment                                                                26\n",
       "                                   AVblock 3:1                                                                25\n",
       "                                   AVBlock 4:1                                                                11\n",
       "                                   <ST-segment                                                                 5\n",
       "Hoestprikkel                       Goed                                                                    32197\n",
       "                                   Redelijk                                                                30985\n",
       "                                   Matig                                                                   18168\n",
       "                                   Geen                                                                     7095\n",
       "                                   Productief                                                               2233\n",
       "                                   Prikkelhoest                                                             1014\n",
       "                                   Niet prod.                                                                572\n",
       "Hoeveelheid Sputum                 Normaal                                                                 47447\n",
       "                                   Ruim                                                                    23295\n",
       "                                   Gering                                                                  17142\n",
       "                                   Veel                                                                     6405\n",
       "                                   Geen                                                                     1524\n",
       "Houding patiënt                    Rugligging                                                             106663\n",
       "                                   30 graden                                                               91834\n",
       "                                   Re-zijde                                                                59826\n",
       "                                   Li-zijde                                                                53217\n",
       "                                   Halfzittend                                                             50787\n",
       "                                   Zittend                                                                 10524\n",
       "                                   Stoel                                                                   10433\n",
       "                                   Buikligging                                                              4437\n",
       "                                   Trendelenburg                                                             725\n",
       "                                   Rotarestbed                                                               536\n",
       "                                   Anti - Trendelenburg                                                      415\n",
       "                                   Buik re-zijde                                                              68\n",
       "                                   Buik li-zijde                                                              63\n",
       "Kleur Sputum                       Wit                                                                     46251\n",
       "                                   Geel                                                                    43148\n",
       "                                   Purulent                                                                13570\n",
       "                                   Bloederig                                                                8113\n",
       "                                   Spoor bloed                                                              7166\n",
       "                                   Helder                                                                   5605\n",
       "                                   Roest                                                                    2303\n",
       "                                   Groen                                                                    1971\n",
       "                                   Bruin                                                                    1478\n",
       "                                   Roze                                                                     1133\n",
       "                                   Grijs                                                                     334\n",
       "                                   Donker/Groen                                                              206\n",
       "                                   Zwartig                                                                   153\n",
       "MFT_Behandeling                    HVCVVH                                                                 416976\n",
       "                                   CVVH                                                                   383567\n",
       "                                   CVVHDF                                                                     85\n",
       "                                   MPS                                                                        43\n",
       "                                   SCUF                                                                       28\n",
       "NIV Program Status (Set)           Ventilation                                                            183209\n",
       "                                   Disconnected                                                             1452\n",
       "                                   Waiting position                                                          277\n",
       "Pupil Links Grootte                2 mm                                                                    58507\n",
       "                                   3 mm                                                                    36184\n",
       "                                   4 mm                                                                    14031\n",
       "                                   1 mm                                                                    12124\n",
       "                                   5 mm                                                                     5284\n",
       "                                   Pinpoint                                                                 2220\n",
       "                                   6 mm                                                                     2203\n",
       "                                   7 mm                                                                      898\n",
       "                                   Niet getest                                                               362\n",
       "                                   8 mm                                                                      197\n",
       "Pupil Links Reactie                +                                                                      115125\n",
       "                                   -                                                                       14492\n",
       "Pupil Rechts Grootte               2 mm                                                                    58878\n",
       "                                   3 mm                                                                    36824\n",
       "                                   4 mm                                                                    13520\n",
       "                                   1 mm                                                                    12391\n",
       "                                   5 mm                                                                     5058\n",
       "                                   Pinpoint                                                                 2199\n",
       "                                   6 mm                                                                     1627\n",
       "                                   7 mm                                                                      673\n",
       "                                   Niet getest                                                               492\n",
       "                                   8 mm                                                                      200\n",
       "Pupil Rechts Reactie               +                                                                      114000\n",
       "                                   -                                                                       14793\n",
       "Ramsay score                       6 in slaap, helemaal geen reactie                                       29167\n",
       "                                   5 inslaap, trage, slome reaktie op prikkel                              20191\n",
       "                                   4 in slaap, maar snelle respons op prikkel                              17376\n",
       "                                   2 wakker, cooperatief, georiënteerd en rustig                            8390\n",
       "                                   1 wakker, angstig, geagiteerd of rusteloos                               5213\n",
       "                                   3 wakker, alleen respons op opdracht                                     2091\n",
       "Toedieningsweg                     O2-bril                                                                123306\n",
       "                                   Kunstneus                                                               30921\n",
       "                                   Kapje                                                                   23332\n",
       "                                   Non-Rebreathing masker                                                  17645\n",
       "                                   Diep Nasaal                                                              6501\n",
       "                                   Spreekklepje                                                             5746\n",
       "                                   B.Lucht                                                                  5526\n",
       "                                   Kinnebak                                                                 5025\n",
       "                                   Spreekcanule                                                             2200\n",
       "                                   CPAP                                                                      952\n",
       "                                   Nasaal                                                                    877\n",
       "                                   Trach.stoma                                                               417\n",
       "                                   Nebulizer                                                                 160\n",
       "                                   Guedel                                                                     37\n",
       "                                   Waterset                                                                   20\n",
       "                                   Ambu                                                                        9\n",
       "Ventilatie Mode (Set)              PS/CPAP                                                               4605296\n",
       "                                   PC                                                                    1791599\n",
       "                                   PC (No trig)                                                           530551\n",
       "                                   PS/CPAP (trig)                                                         321846\n",
       "                                   PS/CPAP in NIV                                                         173414\n",
       "                                   VC                                                                     132631\n",
       "                                   SIMV(PC)+PS                                                             64095\n",
       "                                   SIMV(VC)+PS                                                             12007\n",
       "                                   PC in NIV                                                               11154\n",
       "                                   Bi Vente                                                                 6411\n",
       "                                   NAVA                                                                     3796\n",
       "                                   Stand By                                                                   48\n",
       "                                   VC (No trig)                                                                8\n",
       "                                   PRVC (No trig)                                                              7\n",
       "                                   VS                                                                          2\n",
       "                                   PRVC                                                                        1\n",
       "Name: value, dtype: int64"
      ]
     },
     "metadata": {},
     "execution_count": 8
    }
   ],
   "source": [
    "lst.groupby(\"item\")[\"value\"].value_counts()"
   ]
  },
  {
   "cell_type": "code",
   "execution_count": null,
   "metadata": {},
   "outputs": [],
   "source": []
  }
 ]
}