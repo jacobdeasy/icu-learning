{
 "cells": [
  {
   "cell_type": "code",
   "execution_count": 1,
   "metadata": {},
   "outputs": [],
   "source": [
    "import matplotlib.pyplot as plt\n",
    "import numpy as np\n",
    "import os\n",
    "import pandas as pd\n",
    "\n",
    "from datetime import timedelta"
   ]
  },
  {
   "cell_type": "code",
   "execution_count": 2,
   "metadata": {},
   "outputs": [],
   "source": [
    "pd.set_option('display.max_rows', 500)"
   ]
  },
  {
   "cell_type": "code",
   "execution_count": 3,
   "metadata": {},
   "outputs": [],
   "source": [
    "file_path = 'C:/Users/Jacob/Documents/datasets/mimic-iv-0.4/'\n",
    "save_path = 'C:/Users/Jacob/Documents/datasets/mimic-iv-0.4-processed/'\n",
    "if not os.path.exists(save_path):\n",
    "    os.mkdir(save_path)"
   ]
  },
  {
   "cell_type": "code",
   "execution_count": 4,
   "metadata": {},
   "outputs": [],
   "source": [
    "adm = pd.read_csv(os.path.join(save_path, \"icu\", \"admissions.csv\"))\n",
    "lab = pd.read_csv(os.path.join(save_path, \"hosp\", \"labevents.csv\"), usecols=[\"subject_id\", \"hadm_id\", \"charttime\", \"valuenum\", \"label\"])\n",
    "inp = pd.read_csv(os.path.join(save_path, \"icu\", \"inputevents.csv\"), usecols=[\"subject_id\", \"hadm_id\", \"starttime\", \"amount\", \"label\"])\n",
    "out = pd.read_csv(os.path.join(save_path, \"icu\", \"outputevents.csv\"), usecols=[\"subject_id\", \"hadm_id\", \"charttime\", \"value\", \"label\"])\n",
    "pre = pd.read_csv(os.path.join(save_path, \"hosp\", \"prescriptions.csv\"), usecols=[\"subject_id\", \"hadm_id\", \"starttime\", \"dose_val_rx\", \"drug\"])\n",
    "# TODO[jacob]: `chartevents.csv` includes a stay_id, this should be incorporated when chart events is used\n",
    "# cht = pd.read_csv(os.path.join(save_path, \"icu\", \"chartevents.csv\"))[[\"subject_id\", \"hadm_id\", \"stay_id\", \"charttime\", \"valuenum\"]]"
   ]
  },
  {
   "cell_type": "code",
   "execution_count": 6,
   "metadata": {},
   "outputs": [
    {
     "output_type": "stream",
     "name": "stdout",
     "text": [
      "216\n"
     ]
    },
    {
     "output_type": "execute_result",
     "data": {
      "text/plain": [
       "   index  subject_id     hadm_id            charttime  valuenum      label  \\\n",
       "0      0    12422371  22216078.0  2137-08-19 08:00:00     240.0  PO Intake   \n",
       "1      1    12422371  22216078.0  2137-08-20 07:59:00     100.0  PO Intake   \n",
       "2      2    12422371  22216078.0  2137-08-19 18:00:00     480.0  PO Intake   \n",
       "3      3    12422371  22216078.0  2137-08-20 12:17:00     300.0  PO Intake   \n",
       "4      4    12422371  22216078.0  2137-08-20 09:00:00     350.0  PO Intake   \n",
       "\n",
       "        origin  \n",
       "0  inputevents  \n",
       "1  inputevents  \n",
       "2  inputevents  \n",
       "3  inputevents  \n",
       "4  inputevents  "
      ],
      "text/html": "<div>\n<style scoped>\n    .dataframe tbody tr th:only-of-type {\n        vertical-align: middle;\n    }\n\n    .dataframe tbody tr th {\n        vertical-align: top;\n    }\n\n    .dataframe thead th {\n        text-align: right;\n    }\n</style>\n<table border=\"1\" class=\"dataframe\">\n  <thead>\n    <tr style=\"text-align: right;\">\n      <th></th>\n      <th>index</th>\n      <th>subject_id</th>\n      <th>hadm_id</th>\n      <th>charttime</th>\n      <th>valuenum</th>\n      <th>label</th>\n      <th>origin</th>\n    </tr>\n  </thead>\n  <tbody>\n    <tr>\n      <th>0</th>\n      <td>0</td>\n      <td>12422371</td>\n      <td>22216078.0</td>\n      <td>2137-08-19 08:00:00</td>\n      <td>240.0</td>\n      <td>PO Intake</td>\n      <td>inputevents</td>\n    </tr>\n    <tr>\n      <th>1</th>\n      <td>1</td>\n      <td>12422371</td>\n      <td>22216078.0</td>\n      <td>2137-08-20 07:59:00</td>\n      <td>100.0</td>\n      <td>PO Intake</td>\n      <td>inputevents</td>\n    </tr>\n    <tr>\n      <th>2</th>\n      <td>2</td>\n      <td>12422371</td>\n      <td>22216078.0</td>\n      <td>2137-08-19 18:00:00</td>\n      <td>480.0</td>\n      <td>PO Intake</td>\n      <td>inputevents</td>\n    </tr>\n    <tr>\n      <th>3</th>\n      <td>3</td>\n      <td>12422371</td>\n      <td>22216078.0</td>\n      <td>2137-08-20 12:17:00</td>\n      <td>300.0</td>\n      <td>PO Intake</td>\n      <td>inputevents</td>\n    </tr>\n    <tr>\n      <th>4</th>\n      <td>4</td>\n      <td>12422371</td>\n      <td>22216078.0</td>\n      <td>2137-08-20 09:00:00</td>\n      <td>350.0</td>\n      <td>PO Intake</td>\n      <td>inputevents</td>\n    </tr>\n  </tbody>\n</table>\n</div>"
     },
     "metadata": {},
     "execution_count": 6
    }
   ],
   "source": [
    "inp = inp.rename(columns={\"starttime\": \"charttime\", \"amount\": \"valuenum\"})\n",
    "out = out.rename(columns={\"value\": \"valuenum\"})\n",
    "pre = pre.rename(columns={\"starttime\": \"charttime\", \"dose_val_rx\": \"valuenum\", \"drug\": \"label\"})\n",
    "\n",
    "inp[\"origin\"] = \"inputevents\"\n",
    "lab[\"origin\"] = \"labevents\"\n",
    "out[\"origin\"] = \"outputevents\"\n",
    "pre[\"origin\"] = \"prescriptions\"\n",
    "# cht[\"origin\"] = \"chartevents\"\n",
    "\n",
    "full = pd.concat([inp, lab, out, pre]).reset_index()\n",
    "# full = pd.concat([inp, lab, out, pre, cht]).reset_index()\n",
    "\n",
    "# Vancomycin is repeated in inputevents and labevents, so distinguish between them\n",
    "full.loc[(full[\"label\"]==\"Vancomycin\") & (full[\"origin\"]==\"labevents\"), \"label\"] = \"Vancomycin LAB\"\n",
    "\n",
    "# Check that all labels have different names.\n",
    "assert(full[\"label\"].nunique() == (inp[\"label\"].nunique() + lab[\"label\"].nunique() + out[\"label\"].nunique() + pre[\"label\"].nunique()))\n",
    "# assert(full[\"label\"].nunique() == (inp[\"label\"].nunique() + lab[\"label\"].nunique() + out[\"label\"].nunique() + pre[\"label\"].nunique() + cht[\"label\"].nunique()))\n",
    "\n",
    "del inp\n",
    "del lab\n",
    "del out\n",
    "del pre\n",
    "# del cht\n",
    "\n",
    "print(full[\"label\"].nunique())\n",
    "full.head()"
   ]
  },
  {
   "cell_type": "code",
   "execution_count": 7,
   "metadata": {},
   "outputs": [],
   "source": [
    "# Set the reference time as the lowest chart time for each admission.\n",
    "full['charttime'] = pd.to_datetime(full[\"charttime\"], format='%Y-%m-%d %H:%M:%S')\n",
    "ref_time = full.groupby(\"hadm_id\")[\"charttime\"].min()\n",
    "\n",
    "full = pd.merge(ref_time.to_frame(name=\"ref_time\"), full, left_index=True, right_on=\"hadm_id\")\n",
    "full[\"timestamp\"] = full[\"charttime\"] - full[\"ref_time\"]\n",
    "assert(len(full.loc[full[\"timestamp\"] < timedelta(hours=0)].index) == 0)"
   ]
  },
  {
   "cell_type": "code",
   "execution_count": 8,
   "metadata": {},
   "outputs": [
    {
     "output_type": "execute_result",
     "data": {
      "text/plain": [
       "                   ref_time    index  subject_id     hadm_id  \\\n",
       "16762   2128-09-14 17:00:00    16762    16058391  20000397.0   \n",
       "16763   2128-09-14 17:00:00    16763    16058391  20000397.0   \n",
       "16764   2128-09-14 17:00:00    16764    16058391  20000397.0   \n",
       "364116  2128-09-14 17:00:00   364116    16058391  20000397.0   \n",
       "1121066 2128-09-14 17:00:00  1121066    16058391  20000397.0   \n",
       "\n",
       "                  charttime      valuenum           label       origin  \\\n",
       "16762   2128-09-18 05:12:00     20.000000       PO Intake  inputevents   \n",
       "16763   2128-09-17 23:07:00    180.000000       PO Intake  inputevents   \n",
       "16764   2128-09-17 18:44:00    120.000000       PO Intake  inputevents   \n",
       "364116  2128-09-17 17:08:00    123.000004     Dextrose 5%  inputevents   \n",
       "1121066 2128-09-17 17:08:00  12299.999531  Heparin Sodium  inputevents   \n",
       "\n",
       "              timestamp  \n",
       "16762   3 days 12:12:00  \n",
       "16763   3 days 06:07:00  \n",
       "16764   3 days 01:44:00  \n",
       "364116  3 days 00:08:00  \n",
       "1121066 3 days 00:08:00  "
      ],
      "text/html": "<div>\n<style scoped>\n    .dataframe tbody tr th:only-of-type {\n        vertical-align: middle;\n    }\n\n    .dataframe tbody tr th {\n        vertical-align: top;\n    }\n\n    .dataframe thead th {\n        text-align: right;\n    }\n</style>\n<table border=\"1\" class=\"dataframe\">\n  <thead>\n    <tr style=\"text-align: right;\">\n      <th></th>\n      <th>ref_time</th>\n      <th>index</th>\n      <th>subject_id</th>\n      <th>hadm_id</th>\n      <th>charttime</th>\n      <th>valuenum</th>\n      <th>label</th>\n      <th>origin</th>\n      <th>timestamp</th>\n    </tr>\n  </thead>\n  <tbody>\n    <tr>\n      <th>16762</th>\n      <td>2128-09-14 17:00:00</td>\n      <td>16762</td>\n      <td>16058391</td>\n      <td>20000397.0</td>\n      <td>2128-09-18 05:12:00</td>\n      <td>20.000000</td>\n      <td>PO Intake</td>\n      <td>inputevents</td>\n      <td>3 days 12:12:00</td>\n    </tr>\n    <tr>\n      <th>16763</th>\n      <td>2128-09-14 17:00:00</td>\n      <td>16763</td>\n      <td>16058391</td>\n      <td>20000397.0</td>\n      <td>2128-09-17 23:07:00</td>\n      <td>180.000000</td>\n      <td>PO Intake</td>\n      <td>inputevents</td>\n      <td>3 days 06:07:00</td>\n    </tr>\n    <tr>\n      <th>16764</th>\n      <td>2128-09-14 17:00:00</td>\n      <td>16764</td>\n      <td>16058391</td>\n      <td>20000397.0</td>\n      <td>2128-09-17 18:44:00</td>\n      <td>120.000000</td>\n      <td>PO Intake</td>\n      <td>inputevents</td>\n      <td>3 days 01:44:00</td>\n    </tr>\n    <tr>\n      <th>364116</th>\n      <td>2128-09-14 17:00:00</td>\n      <td>364116</td>\n      <td>16058391</td>\n      <td>20000397.0</td>\n      <td>2128-09-17 17:08:00</td>\n      <td>123.000004</td>\n      <td>Dextrose 5%</td>\n      <td>inputevents</td>\n      <td>3 days 00:08:00</td>\n    </tr>\n    <tr>\n      <th>1121066</th>\n      <td>2128-09-14 17:00:00</td>\n      <td>1121066</td>\n      <td>16058391</td>\n      <td>20000397.0</td>\n      <td>2128-09-17 17:08:00</td>\n      <td>12299.999531</td>\n      <td>Heparin Sodium</td>\n      <td>inputevents</td>\n      <td>3 days 00:08:00</td>\n    </tr>\n  </tbody>\n</table>\n</div>"
     },
     "metadata": {},
     "execution_count": 8
    }
   ],
   "source": [
    "full.head()"
   ]
  },
  {
   "cell_type": "code",
   "execution_count": 9,
   "metadata": {},
   "outputs": [
    {
     "output_type": "execute_result",
     "data": {
      "text/plain": [
       "0"
      ]
     },
     "metadata": {},
     "execution_count": 9
    }
   ],
   "source": [
    "full[\"timestamp\"].isna().sum()"
   ]
  },
  {
   "cell_type": "code",
   "execution_count": 10,
   "metadata": {},
   "outputs": [
    {
     "output_type": "display_data",
     "data": {
      "text/plain": "HBox(children=(FloatProgress(value=0.0, max=59.0), HTML(value='')))",
      "application/vnd.jupyter.widget-view+json": {
       "version_major": 2,
       "version_minor": 0,
       "model_id": "827e71475a1148c588523418175ba710"
      }
     },
     "metadata": {}
    },
    {
     "output_type": "stream",
     "name": "stdout",
     "text": [
      "\n"
     ]
    },
    {
     "output_type": "display_data",
     "data": {
      "text/plain": "<Figure size 432x288 with 1 Axes>",
      "image/svg+xml": "<?xml version=\"1.0\" encoding=\"utf-8\" standalone=\"no\"?>\r\n<!DOCTYPE svg PUBLIC \"-//W3C//DTD SVG 1.1//EN\"\r\n  \"http://www.w3.org/Graphics/SVG/1.1/DTD/svg11.dtd\">\r\n<!-- Created with matplotlib (https://matplotlib.org/) -->\r\n<svg height=\"277.314375pt\" version=\"1.1\" viewBox=\"0 0 376.240625 277.314375\" width=\"376.240625pt\" xmlns=\"http://www.w3.org/2000/svg\" xmlns:xlink=\"http://www.w3.org/1999/xlink\">\r\n <defs>\r\n  <style type=\"text/css\">\r\n*{stroke-linecap:butt;stroke-linejoin:round;}\r\n  </style>\r\n </defs>\r\n <g id=\"figure_1\">\r\n  <g id=\"patch_1\">\r\n   <path d=\"M 0 277.314375 \r\nL 376.240625 277.314375 \r\nL 376.240625 0 \r\nL 0 0 \r\nz\r\n\" style=\"fill:none;\"/>\r\n  </g>\r\n  <g id=\"axes_1\">\r\n   <g id=\"patch_2\">\r\n    <path d=\"M 34.240625 239.758125 \r\nL 369.040625 239.758125 \r\nL 369.040625 22.318125 \r\nL 34.240625 22.318125 \r\nz\r\n\" style=\"fill:#ffffff;\"/>\r\n   </g>\r\n   <g id=\"matplotlib.axis_1\">\r\n    <g id=\"xtick_1\">\r\n     <g id=\"line2d_1\">\r\n      <defs>\r\n       <path d=\"M 0 0 \r\nL 0 3.5 \r\n\" id=\"mceee737539\" style=\"stroke:#000000;stroke-width:0.8;\"/>\r\n      </defs>\r\n      <g>\r\n       <use style=\"stroke:#000000;stroke-width:0.8;\" x=\"44.211158\" xlink:href=\"#mceee737539\" y=\"239.758125\"/>\r\n      </g>\r\n     </g>\r\n     <g id=\"text_1\">\r\n      <!-- 0 -->\r\n      <defs>\r\n       <path d=\"M 31.78125 66.40625 \r\nQ 24.171875 66.40625 20.328125 58.90625 \r\nQ 16.5 51.421875 16.5 36.375 \r\nQ 16.5 21.390625 20.328125 13.890625 \r\nQ 24.171875 6.390625 31.78125 6.390625 \r\nQ 39.453125 6.390625 43.28125 13.890625 \r\nQ 47.125 21.390625 47.125 36.375 \r\nQ 47.125 51.421875 43.28125 58.90625 \r\nQ 39.453125 66.40625 31.78125 66.40625 \r\nz\r\nM 31.78125 74.21875 \r\nQ 44.046875 74.21875 50.515625 64.515625 \r\nQ 56.984375 54.828125 56.984375 36.375 \r\nQ 56.984375 17.96875 50.515625 8.265625 \r\nQ 44.046875 -1.421875 31.78125 -1.421875 \r\nQ 19.53125 -1.421875 13.0625 8.265625 \r\nQ 6.59375 17.96875 6.59375 36.375 \r\nQ 6.59375 54.828125 13.0625 64.515625 \r\nQ 19.53125 74.21875 31.78125 74.21875 \r\nz\r\n\" id=\"DejaVuSans-48\"/>\r\n      </defs>\r\n      <g transform=\"translate(41.029908 254.356562)scale(0.1 -0.1)\">\r\n       <use xlink:href=\"#DejaVuSans-48\"/>\r\n      </g>\r\n     </g>\r\n    </g>\r\n    <g id=\"xtick_2\">\r\n     <g id=\"line2d_2\">\r\n      <g>\r\n       <use style=\"stroke:#000000;stroke-width:0.8;\" x=\"96.687647\" xlink:href=\"#mceee737539\" y=\"239.758125\"/>\r\n      </g>\r\n     </g>\r\n     <g id=\"text_2\">\r\n      <!-- 10 -->\r\n      <defs>\r\n       <path d=\"M 12.40625 8.296875 \r\nL 28.515625 8.296875 \r\nL 28.515625 63.921875 \r\nL 10.984375 60.40625 \r\nL 10.984375 69.390625 \r\nL 28.421875 72.90625 \r\nL 38.28125 72.90625 \r\nL 38.28125 8.296875 \r\nL 54.390625 8.296875 \r\nL 54.390625 0 \r\nL 12.40625 0 \r\nz\r\n\" id=\"DejaVuSans-49\"/>\r\n      </defs>\r\n      <g transform=\"translate(90.325147 254.356562)scale(0.1 -0.1)\">\r\n       <use xlink:href=\"#DejaVuSans-49\"/>\r\n       <use x=\"63.623047\" xlink:href=\"#DejaVuSans-48\"/>\r\n      </g>\r\n     </g>\r\n    </g>\r\n    <g id=\"xtick_3\">\r\n     <g id=\"line2d_3\">\r\n      <g>\r\n       <use style=\"stroke:#000000;stroke-width:0.8;\" x=\"149.164136\" xlink:href=\"#mceee737539\" y=\"239.758125\"/>\r\n      </g>\r\n     </g>\r\n     <g id=\"text_3\">\r\n      <!-- 20 -->\r\n      <defs>\r\n       <path d=\"M 19.1875 8.296875 \r\nL 53.609375 8.296875 \r\nL 53.609375 0 \r\nL 7.328125 0 \r\nL 7.328125 8.296875 \r\nQ 12.9375 14.109375 22.625 23.890625 \r\nQ 32.328125 33.6875 34.8125 36.53125 \r\nQ 39.546875 41.84375 41.421875 45.53125 \r\nQ 43.3125 49.21875 43.3125 52.78125 \r\nQ 43.3125 58.59375 39.234375 62.25 \r\nQ 35.15625 65.921875 28.609375 65.921875 \r\nQ 23.96875 65.921875 18.8125 64.3125 \r\nQ 13.671875 62.703125 7.8125 59.421875 \r\nL 7.8125 69.390625 \r\nQ 13.765625 71.78125 18.9375 73 \r\nQ 24.125 74.21875 28.421875 74.21875 \r\nQ 39.75 74.21875 46.484375 68.546875 \r\nQ 53.21875 62.890625 53.21875 53.421875 \r\nQ 53.21875 48.921875 51.53125 44.890625 \r\nQ 49.859375 40.875 45.40625 35.40625 \r\nQ 44.1875 33.984375 37.640625 27.21875 \r\nQ 31.109375 20.453125 19.1875 8.296875 \r\nz\r\n\" id=\"DejaVuSans-50\"/>\r\n      </defs>\r\n      <g transform=\"translate(142.801636 254.356562)scale(0.1 -0.1)\">\r\n       <use xlink:href=\"#DejaVuSans-50\"/>\r\n       <use x=\"63.623047\" xlink:href=\"#DejaVuSans-48\"/>\r\n      </g>\r\n     </g>\r\n    </g>\r\n    <g id=\"xtick_4\">\r\n     <g id=\"line2d_4\">\r\n      <g>\r\n       <use style=\"stroke:#000000;stroke-width:0.8;\" x=\"201.640625\" xlink:href=\"#mceee737539\" y=\"239.758125\"/>\r\n      </g>\r\n     </g>\r\n     <g id=\"text_4\">\r\n      <!-- 30 -->\r\n      <defs>\r\n       <path d=\"M 40.578125 39.3125 \r\nQ 47.65625 37.796875 51.625 33 \r\nQ 55.609375 28.21875 55.609375 21.1875 \r\nQ 55.609375 10.40625 48.1875 4.484375 \r\nQ 40.765625 -1.421875 27.09375 -1.421875 \r\nQ 22.515625 -1.421875 17.65625 -0.515625 \r\nQ 12.796875 0.390625 7.625 2.203125 \r\nL 7.625 11.71875 \r\nQ 11.71875 9.328125 16.59375 8.109375 \r\nQ 21.484375 6.890625 26.8125 6.890625 \r\nQ 36.078125 6.890625 40.9375 10.546875 \r\nQ 45.796875 14.203125 45.796875 21.1875 \r\nQ 45.796875 27.640625 41.28125 31.265625 \r\nQ 36.765625 34.90625 28.71875 34.90625 \r\nL 20.21875 34.90625 \r\nL 20.21875 43.015625 \r\nL 29.109375 43.015625 \r\nQ 36.375 43.015625 40.234375 45.921875 \r\nQ 44.09375 48.828125 44.09375 54.296875 \r\nQ 44.09375 59.90625 40.109375 62.90625 \r\nQ 36.140625 65.921875 28.71875 65.921875 \r\nQ 24.65625 65.921875 20.015625 65.03125 \r\nQ 15.375 64.15625 9.8125 62.3125 \r\nL 9.8125 71.09375 \r\nQ 15.4375 72.65625 20.34375 73.4375 \r\nQ 25.25 74.21875 29.59375 74.21875 \r\nQ 40.828125 74.21875 47.359375 69.109375 \r\nQ 53.90625 64.015625 53.90625 55.328125 \r\nQ 53.90625 49.265625 50.4375 45.09375 \r\nQ 46.96875 40.921875 40.578125 39.3125 \r\nz\r\n\" id=\"DejaVuSans-51\"/>\r\n      </defs>\r\n      <g transform=\"translate(195.278125 254.356562)scale(0.1 -0.1)\">\r\n       <use xlink:href=\"#DejaVuSans-51\"/>\r\n       <use x=\"63.623047\" xlink:href=\"#DejaVuSans-48\"/>\r\n      </g>\r\n     </g>\r\n    </g>\r\n    <g id=\"xtick_5\">\r\n     <g id=\"line2d_5\">\r\n      <g>\r\n       <use style=\"stroke:#000000;stroke-width:0.8;\" x=\"254.117114\" xlink:href=\"#mceee737539\" y=\"239.758125\"/>\r\n      </g>\r\n     </g>\r\n     <g id=\"text_5\">\r\n      <!-- 40 -->\r\n      <defs>\r\n       <path d=\"M 37.796875 64.3125 \r\nL 12.890625 25.390625 \r\nL 37.796875 25.390625 \r\nz\r\nM 35.203125 72.90625 \r\nL 47.609375 72.90625 \r\nL 47.609375 25.390625 \r\nL 58.015625 25.390625 \r\nL 58.015625 17.1875 \r\nL 47.609375 17.1875 \r\nL 47.609375 0 \r\nL 37.796875 0 \r\nL 37.796875 17.1875 \r\nL 4.890625 17.1875 \r\nL 4.890625 26.703125 \r\nz\r\n\" id=\"DejaVuSans-52\"/>\r\n      </defs>\r\n      <g transform=\"translate(247.754614 254.356562)scale(0.1 -0.1)\">\r\n       <use xlink:href=\"#DejaVuSans-52\"/>\r\n       <use x=\"63.623047\" xlink:href=\"#DejaVuSans-48\"/>\r\n      </g>\r\n     </g>\r\n    </g>\r\n    <g id=\"xtick_6\">\r\n     <g id=\"line2d_6\">\r\n      <g>\r\n       <use style=\"stroke:#000000;stroke-width:0.8;\" x=\"306.593603\" xlink:href=\"#mceee737539\" y=\"239.758125\"/>\r\n      </g>\r\n     </g>\r\n     <g id=\"text_6\">\r\n      <!-- 50 -->\r\n      <defs>\r\n       <path d=\"M 10.796875 72.90625 \r\nL 49.515625 72.90625 \r\nL 49.515625 64.59375 \r\nL 19.828125 64.59375 \r\nL 19.828125 46.734375 \r\nQ 21.96875 47.46875 24.109375 47.828125 \r\nQ 26.265625 48.1875 28.421875 48.1875 \r\nQ 40.625 48.1875 47.75 41.5 \r\nQ 54.890625 34.8125 54.890625 23.390625 \r\nQ 54.890625 11.625 47.5625 5.09375 \r\nQ 40.234375 -1.421875 26.90625 -1.421875 \r\nQ 22.3125 -1.421875 17.546875 -0.640625 \r\nQ 12.796875 0.140625 7.71875 1.703125 \r\nL 7.71875 11.625 \r\nQ 12.109375 9.234375 16.796875 8.0625 \r\nQ 21.484375 6.890625 26.703125 6.890625 \r\nQ 35.15625 6.890625 40.078125 11.328125 \r\nQ 45.015625 15.765625 45.015625 23.390625 \r\nQ 45.015625 31 40.078125 35.4375 \r\nQ 35.15625 39.890625 26.703125 39.890625 \r\nQ 22.75 39.890625 18.8125 39.015625 \r\nQ 14.890625 38.140625 10.796875 36.28125 \r\nz\r\n\" id=\"DejaVuSans-53\"/>\r\n      </defs>\r\n      <g transform=\"translate(300.231103 254.356562)scale(0.1 -0.1)\">\r\n       <use xlink:href=\"#DejaVuSans-53\"/>\r\n       <use x=\"63.623047\" xlink:href=\"#DejaVuSans-48\"/>\r\n      </g>\r\n     </g>\r\n    </g>\r\n    <g id=\"xtick_7\">\r\n     <g id=\"line2d_7\">\r\n      <g>\r\n       <use style=\"stroke:#000000;stroke-width:0.8;\" x=\"359.070092\" xlink:href=\"#mceee737539\" y=\"239.758125\"/>\r\n      </g>\r\n     </g>\r\n     <g id=\"text_7\">\r\n      <!-- 60 -->\r\n      <defs>\r\n       <path d=\"M 33.015625 40.375 \r\nQ 26.375 40.375 22.484375 35.828125 \r\nQ 18.609375 31.296875 18.609375 23.390625 \r\nQ 18.609375 15.53125 22.484375 10.953125 \r\nQ 26.375 6.390625 33.015625 6.390625 \r\nQ 39.65625 6.390625 43.53125 10.953125 \r\nQ 47.40625 15.53125 47.40625 23.390625 \r\nQ 47.40625 31.296875 43.53125 35.828125 \r\nQ 39.65625 40.375 33.015625 40.375 \r\nz\r\nM 52.59375 71.296875 \r\nL 52.59375 62.3125 \r\nQ 48.875 64.0625 45.09375 64.984375 \r\nQ 41.3125 65.921875 37.59375 65.921875 \r\nQ 27.828125 65.921875 22.671875 59.328125 \r\nQ 17.53125 52.734375 16.796875 39.40625 \r\nQ 19.671875 43.65625 24.015625 45.921875 \r\nQ 28.375 48.1875 33.59375 48.1875 \r\nQ 44.578125 48.1875 50.953125 41.515625 \r\nQ 57.328125 34.859375 57.328125 23.390625 \r\nQ 57.328125 12.15625 50.6875 5.359375 \r\nQ 44.046875 -1.421875 33.015625 -1.421875 \r\nQ 20.359375 -1.421875 13.671875 8.265625 \r\nQ 6.984375 17.96875 6.984375 36.375 \r\nQ 6.984375 53.65625 15.1875 63.9375 \r\nQ 23.390625 74.21875 37.203125 74.21875 \r\nQ 40.921875 74.21875 44.703125 73.484375 \r\nQ 48.484375 72.75 52.59375 71.296875 \r\nz\r\n\" id=\"DejaVuSans-54\"/>\r\n      </defs>\r\n      <g transform=\"translate(352.707592 254.356562)scale(0.1 -0.1)\">\r\n       <use xlink:href=\"#DejaVuSans-54\"/>\r\n       <use x=\"63.623047\" xlink:href=\"#DejaVuSans-48\"/>\r\n      </g>\r\n     </g>\r\n    </g>\r\n    <g id=\"text_8\">\r\n     <!-- Number of bins/hour -->\r\n     <defs>\r\n      <path d=\"M 9.8125 72.90625 \r\nL 23.09375 72.90625 \r\nL 55.421875 11.921875 \r\nL 55.421875 72.90625 \r\nL 64.984375 72.90625 \r\nL 64.984375 0 \r\nL 51.703125 0 \r\nL 19.390625 60.984375 \r\nL 19.390625 0 \r\nL 9.8125 0 \r\nz\r\n\" id=\"DejaVuSans-78\"/>\r\n      <path d=\"M 8.5 21.578125 \r\nL 8.5 54.6875 \r\nL 17.484375 54.6875 \r\nL 17.484375 21.921875 \r\nQ 17.484375 14.15625 20.5 10.265625 \r\nQ 23.53125 6.390625 29.59375 6.390625 \r\nQ 36.859375 6.390625 41.078125 11.03125 \r\nQ 45.3125 15.671875 45.3125 23.6875 \r\nL 45.3125 54.6875 \r\nL 54.296875 54.6875 \r\nL 54.296875 0 \r\nL 45.3125 0 \r\nL 45.3125 8.40625 \r\nQ 42.046875 3.421875 37.71875 1 \r\nQ 33.40625 -1.421875 27.6875 -1.421875 \r\nQ 18.265625 -1.421875 13.375 4.4375 \r\nQ 8.5 10.296875 8.5 21.578125 \r\nz\r\nM 31.109375 56 \r\nz\r\n\" id=\"DejaVuSans-117\"/>\r\n      <path d=\"M 52 44.1875 \r\nQ 55.375 50.25 60.0625 53.125 \r\nQ 64.75 56 71.09375 56 \r\nQ 79.640625 56 84.28125 50.015625 \r\nQ 88.921875 44.046875 88.921875 33.015625 \r\nL 88.921875 0 \r\nL 79.890625 0 \r\nL 79.890625 32.71875 \r\nQ 79.890625 40.578125 77.09375 44.375 \r\nQ 74.3125 48.1875 68.609375 48.1875 \r\nQ 61.625 48.1875 57.5625 43.546875 \r\nQ 53.515625 38.921875 53.515625 30.90625 \r\nL 53.515625 0 \r\nL 44.484375 0 \r\nL 44.484375 32.71875 \r\nQ 44.484375 40.625 41.703125 44.40625 \r\nQ 38.921875 48.1875 33.109375 48.1875 \r\nQ 26.21875 48.1875 22.15625 43.53125 \r\nQ 18.109375 38.875 18.109375 30.90625 \r\nL 18.109375 0 \r\nL 9.078125 0 \r\nL 9.078125 54.6875 \r\nL 18.109375 54.6875 \r\nL 18.109375 46.1875 \r\nQ 21.1875 51.21875 25.484375 53.609375 \r\nQ 29.78125 56 35.6875 56 \r\nQ 41.65625 56 45.828125 52.96875 \r\nQ 50 49.953125 52 44.1875 \r\nz\r\n\" id=\"DejaVuSans-109\"/>\r\n      <path d=\"M 48.6875 27.296875 \r\nQ 48.6875 37.203125 44.609375 42.84375 \r\nQ 40.53125 48.484375 33.40625 48.484375 \r\nQ 26.265625 48.484375 22.1875 42.84375 \r\nQ 18.109375 37.203125 18.109375 27.296875 \r\nQ 18.109375 17.390625 22.1875 11.75 \r\nQ 26.265625 6.109375 33.40625 6.109375 \r\nQ 40.53125 6.109375 44.609375 11.75 \r\nQ 48.6875 17.390625 48.6875 27.296875 \r\nz\r\nM 18.109375 46.390625 \r\nQ 20.953125 51.265625 25.265625 53.625 \r\nQ 29.59375 56 35.59375 56 \r\nQ 45.5625 56 51.78125 48.09375 \r\nQ 58.015625 40.1875 58.015625 27.296875 \r\nQ 58.015625 14.40625 51.78125 6.484375 \r\nQ 45.5625 -1.421875 35.59375 -1.421875 \r\nQ 29.59375 -1.421875 25.265625 0.953125 \r\nQ 20.953125 3.328125 18.109375 8.203125 \r\nL 18.109375 0 \r\nL 9.078125 0 \r\nL 9.078125 75.984375 \r\nL 18.109375 75.984375 \r\nz\r\n\" id=\"DejaVuSans-98\"/>\r\n      <path d=\"M 56.203125 29.59375 \r\nL 56.203125 25.203125 \r\nL 14.890625 25.203125 \r\nQ 15.484375 15.921875 20.484375 11.0625 \r\nQ 25.484375 6.203125 34.421875 6.203125 \r\nQ 39.59375 6.203125 44.453125 7.46875 \r\nQ 49.3125 8.734375 54.109375 11.28125 \r\nL 54.109375 2.78125 \r\nQ 49.265625 0.734375 44.1875 -0.34375 \r\nQ 39.109375 -1.421875 33.890625 -1.421875 \r\nQ 20.796875 -1.421875 13.15625 6.1875 \r\nQ 5.515625 13.8125 5.515625 26.8125 \r\nQ 5.515625 40.234375 12.765625 48.109375 \r\nQ 20.015625 56 32.328125 56 \r\nQ 43.359375 56 49.78125 48.890625 \r\nQ 56.203125 41.796875 56.203125 29.59375 \r\nz\r\nM 47.21875 32.234375 \r\nQ 47.125 39.59375 43.09375 43.984375 \r\nQ 39.0625 48.390625 32.421875 48.390625 \r\nQ 24.90625 48.390625 20.390625 44.140625 \r\nQ 15.875 39.890625 15.1875 32.171875 \r\nz\r\n\" id=\"DejaVuSans-101\"/>\r\n      <path d=\"M 41.109375 46.296875 \r\nQ 39.59375 47.171875 37.8125 47.578125 \r\nQ 36.03125 48 33.890625 48 \r\nQ 26.265625 48 22.1875 43.046875 \r\nQ 18.109375 38.09375 18.109375 28.8125 \r\nL 18.109375 0 \r\nL 9.078125 0 \r\nL 9.078125 54.6875 \r\nL 18.109375 54.6875 \r\nL 18.109375 46.1875 \r\nQ 20.953125 51.171875 25.484375 53.578125 \r\nQ 30.03125 56 36.53125 56 \r\nQ 37.453125 56 38.578125 55.875 \r\nQ 39.703125 55.765625 41.0625 55.515625 \r\nz\r\n\" id=\"DejaVuSans-114\"/>\r\n      <path id=\"DejaVuSans-32\"/>\r\n      <path d=\"M 30.609375 48.390625 \r\nQ 23.390625 48.390625 19.1875 42.75 \r\nQ 14.984375 37.109375 14.984375 27.296875 \r\nQ 14.984375 17.484375 19.15625 11.84375 \r\nQ 23.34375 6.203125 30.609375 6.203125 \r\nQ 37.796875 6.203125 41.984375 11.859375 \r\nQ 46.1875 17.53125 46.1875 27.296875 \r\nQ 46.1875 37.015625 41.984375 42.703125 \r\nQ 37.796875 48.390625 30.609375 48.390625 \r\nz\r\nM 30.609375 56 \r\nQ 42.328125 56 49.015625 48.375 \r\nQ 55.71875 40.765625 55.71875 27.296875 \r\nQ 55.71875 13.875 49.015625 6.21875 \r\nQ 42.328125 -1.421875 30.609375 -1.421875 \r\nQ 18.84375 -1.421875 12.171875 6.21875 \r\nQ 5.515625 13.875 5.515625 27.296875 \r\nQ 5.515625 40.765625 12.171875 48.375 \r\nQ 18.84375 56 30.609375 56 \r\nz\r\n\" id=\"DejaVuSans-111\"/>\r\n      <path d=\"M 37.109375 75.984375 \r\nL 37.109375 68.5 \r\nL 28.515625 68.5 \r\nQ 23.6875 68.5 21.796875 66.546875 \r\nQ 19.921875 64.59375 19.921875 59.515625 \r\nL 19.921875 54.6875 \r\nL 34.71875 54.6875 \r\nL 34.71875 47.703125 \r\nL 19.921875 47.703125 \r\nL 19.921875 0 \r\nL 10.890625 0 \r\nL 10.890625 47.703125 \r\nL 2.296875 47.703125 \r\nL 2.296875 54.6875 \r\nL 10.890625 54.6875 \r\nL 10.890625 58.5 \r\nQ 10.890625 67.625 15.140625 71.796875 \r\nQ 19.390625 75.984375 28.609375 75.984375 \r\nz\r\n\" id=\"DejaVuSans-102\"/>\r\n      <path d=\"M 9.421875 54.6875 \r\nL 18.40625 54.6875 \r\nL 18.40625 0 \r\nL 9.421875 0 \r\nz\r\nM 9.421875 75.984375 \r\nL 18.40625 75.984375 \r\nL 18.40625 64.59375 \r\nL 9.421875 64.59375 \r\nz\r\n\" id=\"DejaVuSans-105\"/>\r\n      <path d=\"M 54.890625 33.015625 \r\nL 54.890625 0 \r\nL 45.90625 0 \r\nL 45.90625 32.71875 \r\nQ 45.90625 40.484375 42.875 44.328125 \r\nQ 39.84375 48.1875 33.796875 48.1875 \r\nQ 26.515625 48.1875 22.3125 43.546875 \r\nQ 18.109375 38.921875 18.109375 30.90625 \r\nL 18.109375 0 \r\nL 9.078125 0 \r\nL 9.078125 54.6875 \r\nL 18.109375 54.6875 \r\nL 18.109375 46.1875 \r\nQ 21.34375 51.125 25.703125 53.5625 \r\nQ 30.078125 56 35.796875 56 \r\nQ 45.21875 56 50.046875 50.171875 \r\nQ 54.890625 44.34375 54.890625 33.015625 \r\nz\r\n\" id=\"DejaVuSans-110\"/>\r\n      <path d=\"M 44.28125 53.078125 \r\nL 44.28125 44.578125 \r\nQ 40.484375 46.53125 36.375 47.5 \r\nQ 32.28125 48.484375 27.875 48.484375 \r\nQ 21.1875 48.484375 17.84375 46.4375 \r\nQ 14.5 44.390625 14.5 40.28125 \r\nQ 14.5 37.15625 16.890625 35.375 \r\nQ 19.28125 33.59375 26.515625 31.984375 \r\nL 29.59375 31.296875 \r\nQ 39.15625 29.25 43.1875 25.515625 \r\nQ 47.21875 21.78125 47.21875 15.09375 \r\nQ 47.21875 7.46875 41.1875 3.015625 \r\nQ 35.15625 -1.421875 24.609375 -1.421875 \r\nQ 20.21875 -1.421875 15.453125 -0.5625 \r\nQ 10.6875 0.296875 5.421875 2 \r\nL 5.421875 11.28125 \r\nQ 10.40625 8.6875 15.234375 7.390625 \r\nQ 20.0625 6.109375 24.8125 6.109375 \r\nQ 31.15625 6.109375 34.5625 8.28125 \r\nQ 37.984375 10.453125 37.984375 14.40625 \r\nQ 37.984375 18.0625 35.515625 20.015625 \r\nQ 33.0625 21.96875 24.703125 23.78125 \r\nL 21.578125 24.515625 \r\nQ 13.234375 26.265625 9.515625 29.90625 \r\nQ 5.8125 33.546875 5.8125 39.890625 \r\nQ 5.8125 47.609375 11.28125 51.796875 \r\nQ 16.75 56 26.8125 56 \r\nQ 31.78125 56 36.171875 55.265625 \r\nQ 40.578125 54.546875 44.28125 53.078125 \r\nz\r\n\" id=\"DejaVuSans-115\"/>\r\n      <path d=\"M 25.390625 72.90625 \r\nL 33.6875 72.90625 \r\nL 8.296875 -9.28125 \r\nL 0 -9.28125 \r\nz\r\n\" id=\"DejaVuSans-47\"/>\r\n      <path d=\"M 54.890625 33.015625 \r\nL 54.890625 0 \r\nL 45.90625 0 \r\nL 45.90625 32.71875 \r\nQ 45.90625 40.484375 42.875 44.328125 \r\nQ 39.84375 48.1875 33.796875 48.1875 \r\nQ 26.515625 48.1875 22.3125 43.546875 \r\nQ 18.109375 38.921875 18.109375 30.90625 \r\nL 18.109375 0 \r\nL 9.078125 0 \r\nL 9.078125 75.984375 \r\nL 18.109375 75.984375 \r\nL 18.109375 46.1875 \r\nQ 21.34375 51.125 25.703125 53.5625 \r\nQ 30.078125 56 35.796875 56 \r\nQ 45.21875 56 50.046875 50.171875 \r\nQ 54.890625 44.34375 54.890625 33.015625 \r\nz\r\n\" id=\"DejaVuSans-104\"/>\r\n     </defs>\r\n     <g transform=\"translate(150.083594 268.034687)scale(0.1 -0.1)\">\r\n      <use xlink:href=\"#DejaVuSans-78\"/>\r\n      <use x=\"74.804688\" xlink:href=\"#DejaVuSans-117\"/>\r\n      <use x=\"138.183594\" xlink:href=\"#DejaVuSans-109\"/>\r\n      <use x=\"235.595703\" xlink:href=\"#DejaVuSans-98\"/>\r\n      <use x=\"299.072266\" xlink:href=\"#DejaVuSans-101\"/>\r\n      <use x=\"360.595703\" xlink:href=\"#DejaVuSans-114\"/>\r\n      <use x=\"401.708984\" xlink:href=\"#DejaVuSans-32\"/>\r\n      <use x=\"433.496094\" xlink:href=\"#DejaVuSans-111\"/>\r\n      <use x=\"494.677734\" xlink:href=\"#DejaVuSans-102\"/>\r\n      <use x=\"529.882812\" xlink:href=\"#DejaVuSans-32\"/>\r\n      <use x=\"561.669922\" xlink:href=\"#DejaVuSans-98\"/>\r\n      <use x=\"625.146484\" xlink:href=\"#DejaVuSans-105\"/>\r\n      <use x=\"652.929688\" xlink:href=\"#DejaVuSans-110\"/>\r\n      <use x=\"716.308594\" xlink:href=\"#DejaVuSans-115\"/>\r\n      <use x=\"768.408203\" xlink:href=\"#DejaVuSans-47\"/>\r\n      <use x=\"802.099609\" xlink:href=\"#DejaVuSans-104\"/>\r\n      <use x=\"865.478516\" xlink:href=\"#DejaVuSans-111\"/>\r\n      <use x=\"926.660156\" xlink:href=\"#DejaVuSans-117\"/>\r\n      <use x=\"990.039062\" xlink:href=\"#DejaVuSans-114\"/>\r\n     </g>\r\n    </g>\r\n   </g>\r\n   <g id=\"matplotlib.axis_2\">\r\n    <g id=\"ytick_1\">\r\n     <g id=\"line2d_8\">\r\n      <defs>\r\n       <path d=\"M 0 0 \r\nL -3.5 0 \r\n\" id=\"mf12639c81c\" style=\"stroke:#000000;stroke-width:0.8;\"/>\r\n      </defs>\r\n      <g>\r\n       <use style=\"stroke:#000000;stroke-width:0.8;\" x=\"34.240625\" xlink:href=\"#mf12639c81c\" y=\"230.313297\"/>\r\n      </g>\r\n     </g>\r\n     <g id=\"text_9\">\r\n      <!-- 3 -->\r\n      <g transform=\"translate(20.878125 234.112516)scale(0.1 -0.1)\">\r\n       <use xlink:href=\"#DejaVuSans-51\"/>\r\n      </g>\r\n     </g>\r\n    </g>\r\n    <g id=\"ytick_2\">\r\n     <g id=\"line2d_9\">\r\n      <g>\r\n       <use style=\"stroke:#000000;stroke-width:0.8;\" x=\"34.240625\" xlink:href=\"#mf12639c81c\" y=\"186.852565\"/>\r\n      </g>\r\n     </g>\r\n     <g id=\"text_10\">\r\n      <!-- 4 -->\r\n      <g transform=\"translate(20.878125 190.651784)scale(0.1 -0.1)\">\r\n       <use xlink:href=\"#DejaVuSans-52\"/>\r\n      </g>\r\n     </g>\r\n    </g>\r\n    <g id=\"ytick_3\">\r\n     <g id=\"line2d_10\">\r\n      <g>\r\n       <use style=\"stroke:#000000;stroke-width:0.8;\" x=\"34.240625\" xlink:href=\"#mf12639c81c\" y=\"143.391833\"/>\r\n      </g>\r\n     </g>\r\n     <g id=\"text_11\">\r\n      <!-- 5 -->\r\n      <g transform=\"translate(20.878125 147.191052)scale(0.1 -0.1)\">\r\n       <use xlink:href=\"#DejaVuSans-53\"/>\r\n      </g>\r\n     </g>\r\n    </g>\r\n    <g id=\"ytick_4\">\r\n     <g id=\"line2d_11\">\r\n      <g>\r\n       <use style=\"stroke:#000000;stroke-width:0.8;\" x=\"34.240625\" xlink:href=\"#mf12639c81c\" y=\"99.931101\"/>\r\n      </g>\r\n     </g>\r\n     <g id=\"text_12\">\r\n      <!-- 6 -->\r\n      <g transform=\"translate(20.878125 103.73032)scale(0.1 -0.1)\">\r\n       <use xlink:href=\"#DejaVuSans-54\"/>\r\n      </g>\r\n     </g>\r\n    </g>\r\n    <g id=\"ytick_5\">\r\n     <g id=\"line2d_12\">\r\n      <g>\r\n       <use style=\"stroke:#000000;stroke-width:0.8;\" x=\"34.240625\" xlink:href=\"#mf12639c81c\" y=\"56.47037\"/>\r\n      </g>\r\n     </g>\r\n     <g id=\"text_13\">\r\n      <!-- 7 -->\r\n      <defs>\r\n       <path d=\"M 8.203125 72.90625 \r\nL 55.078125 72.90625 \r\nL 55.078125 68.703125 \r\nL 28.609375 0 \r\nL 18.3125 0 \r\nL 43.21875 64.59375 \r\nL 8.203125 64.59375 \r\nz\r\n\" id=\"DejaVuSans-55\"/>\r\n      </defs>\r\n      <g transform=\"translate(20.878125 60.269588)scale(0.1 -0.1)\">\r\n       <use xlink:href=\"#DejaVuSans-55\"/>\r\n      </g>\r\n     </g>\r\n    </g>\r\n    <g id=\"text_14\">\r\n     <!-- % of hits -->\r\n     <defs>\r\n      <path d=\"M 72.703125 32.078125 \r\nQ 68.453125 32.078125 66.03125 28.46875 \r\nQ 63.625 24.859375 63.625 18.40625 \r\nQ 63.625 12.0625 66.03125 8.421875 \r\nQ 68.453125 4.78125 72.703125 4.78125 \r\nQ 76.859375 4.78125 79.265625 8.421875 \r\nQ 81.6875 12.0625 81.6875 18.40625 \r\nQ 81.6875 24.8125 79.265625 28.4375 \r\nQ 76.859375 32.078125 72.703125 32.078125 \r\nz\r\nM 72.703125 38.28125 \r\nQ 80.421875 38.28125 84.953125 32.90625 \r\nQ 89.5 27.546875 89.5 18.40625 \r\nQ 89.5 9.28125 84.9375 3.921875 \r\nQ 80.375 -1.421875 72.703125 -1.421875 \r\nQ 64.890625 -1.421875 60.34375 3.921875 \r\nQ 55.8125 9.28125 55.8125 18.40625 \r\nQ 55.8125 27.59375 60.375 32.9375 \r\nQ 64.9375 38.28125 72.703125 38.28125 \r\nz\r\nM 22.3125 68.015625 \r\nQ 18.109375 68.015625 15.6875 64.375 \r\nQ 13.28125 60.75 13.28125 54.390625 \r\nQ 13.28125 47.953125 15.671875 44.328125 \r\nQ 18.0625 40.71875 22.3125 40.71875 \r\nQ 26.5625 40.71875 28.96875 44.328125 \r\nQ 31.390625 47.953125 31.390625 54.390625 \r\nQ 31.390625 60.6875 28.953125 64.34375 \r\nQ 26.515625 68.015625 22.3125 68.015625 \r\nz\r\nM 66.40625 74.21875 \r\nL 74.21875 74.21875 \r\nL 28.609375 -1.421875 \r\nL 20.796875 -1.421875 \r\nz\r\nM 22.3125 74.21875 \r\nQ 30.03125 74.21875 34.609375 68.875 \r\nQ 39.203125 63.53125 39.203125 54.390625 \r\nQ 39.203125 45.171875 34.640625 39.84375 \r\nQ 30.078125 34.515625 22.3125 34.515625 \r\nQ 14.546875 34.515625 10.03125 39.859375 \r\nQ 5.515625 45.21875 5.515625 54.390625 \r\nQ 5.515625 63.484375 10.046875 68.84375 \r\nQ 14.59375 74.21875 22.3125 74.21875 \r\nz\r\n\" id=\"DejaVuSans-37\"/>\r\n      <path d=\"M 18.3125 70.21875 \r\nL 18.3125 54.6875 \r\nL 36.8125 54.6875 \r\nL 36.8125 47.703125 \r\nL 18.3125 47.703125 \r\nL 18.3125 18.015625 \r\nQ 18.3125 11.328125 20.140625 9.421875 \r\nQ 21.96875 7.515625 27.59375 7.515625 \r\nL 36.8125 7.515625 \r\nL 36.8125 0 \r\nL 27.59375 0 \r\nQ 17.1875 0 13.234375 3.875 \r\nQ 9.28125 7.765625 9.28125 18.015625 \r\nL 9.28125 47.703125 \r\nL 2.6875 47.703125 \r\nL 2.6875 54.6875 \r\nL 9.28125 54.6875 \r\nL 9.28125 70.21875 \r\nz\r\n\" id=\"DejaVuSans-116\"/>\r\n     </defs>\r\n     <g transform=\"translate(14.798437 152.909219)rotate(-90)scale(0.1 -0.1)\">\r\n      <use xlink:href=\"#DejaVuSans-37\"/>\r\n      <use x=\"95.019531\" xlink:href=\"#DejaVuSans-32\"/>\r\n      <use x=\"126.806641\" xlink:href=\"#DejaVuSans-111\"/>\r\n      <use x=\"187.988281\" xlink:href=\"#DejaVuSans-102\"/>\r\n      <use x=\"223.193359\" xlink:href=\"#DejaVuSans-32\"/>\r\n      <use x=\"254.980469\" xlink:href=\"#DejaVuSans-104\"/>\r\n      <use x=\"318.359375\" xlink:href=\"#DejaVuSans-105\"/>\r\n      <use x=\"346.142578\" xlink:href=\"#DejaVuSans-116\"/>\r\n      <use x=\"385.351562\" xlink:href=\"#DejaVuSans-115\"/>\r\n     </g>\r\n    </g>\r\n   </g>\r\n   <g id=\"line2d_13\">\r\n    <path clip-path=\"url(#p612b3916d2)\" d=\"M 49.458807 32.201761 \r\nL 54.706456 126.655511 \r\nL 59.954105 159.299925 \r\nL 65.201754 177.268029 \r\nL 70.449402 186.755754 \r\nL 75.697051 193.424232 \r\nL 80.9447 198.767503 \r\nL 86.192349 202.81292 \r\nL 91.439998 205.501062 \r\nL 96.687647 207.698735 \r\nL 101.935296 210.299159 \r\nL 107.182945 212.153505 \r\nL 112.430594 213.230648 \r\nL 117.678243 214.322882 \r\nL 122.925891 215.250055 \r\nL 128.17354 217.03649 \r\nL 133.421189 217.801432 \r\nL 138.668838 218.518269 \r\nL 143.916487 219.08891 \r\nL 149.164136 219.916103 \r\nL 154.411785 220.428265 \r\nL 159.659434 220.639543 \r\nL 164.907083 221.36204 \r\nL 170.154732 221.401655 \r\nL 175.40238 222.040207 \r\nL 180.650029 222.33826 \r\nL 185.897678 222.792886 \r\nL 191.145327 223.100372 \r\nL 196.392976 223.586124 \r\nL 201.640625 222.834387 \r\nL 206.888274 224.839647 \r\nL 212.135923 225.21127 \r\nL 217.383572 225.2141 \r\nL 222.631221 225.444243 \r\nL 227.87887 225.510267 \r\nL 233.126518 226.144103 \r\nL 238.374167 225.772479 \r\nL 243.621816 226.246912 \r\nL 248.869465 226.202582 \r\nL 254.117114 226.572319 \r\nL 259.364763 226.688333 \r\nL 264.612412 226.852452 \r\nL 269.860061 226.923192 \r\nL 275.10771 227.177858 \r\nL 280.355359 227.394796 \r\nL 285.603007 227.647576 \r\nL 290.850656 227.786227 \r\nL 296.098305 228.195579 \r\nL 301.345954 228.114463 \r\nL 306.593603 228.305934 \r\nL 311.841252 228.51627 \r\nL 317.088901 228.872802 \r\nL 322.33655 228.886007 \r\nL 327.584199 228.987874 \r\nL 332.831848 229.205754 \r\nL 338.079496 229.524559 \r\nL 343.327145 229.525502 \r\nL 348.574794 229.704711 \r\nL 353.822443 229.874489 \r\n\" style=\"fill:none;stroke:#1f77b4;stroke-linecap:square;stroke-width:1.5;\"/>\r\n   </g>\r\n   <g id=\"patch_3\">\r\n    <path d=\"M 34.240625 239.758125 \r\nL 34.240625 22.318125 \r\n\" style=\"fill:none;stroke:#000000;stroke-linecap:square;stroke-linejoin:miter;stroke-width:0.8;\"/>\r\n   </g>\r\n   <g id=\"patch_4\">\r\n    <path d=\"M 369.040625 239.758125 \r\nL 369.040625 22.318125 \r\n\" style=\"fill:none;stroke:#000000;stroke-linecap:square;stroke-linejoin:miter;stroke-width:0.8;\"/>\r\n   </g>\r\n   <g id=\"patch_5\">\r\n    <path d=\"M 34.240625 239.758125 \r\nL 369.040625 239.758125 \r\n\" style=\"fill:none;stroke:#000000;stroke-linecap:square;stroke-linejoin:miter;stroke-width:0.8;\"/>\r\n   </g>\r\n   <g id=\"patch_6\">\r\n    <path d=\"M 34.240625 22.318125 \r\nL 369.040625 22.318125 \r\n\" style=\"fill:none;stroke:#000000;stroke-linecap:square;stroke-linejoin:miter;stroke-width:0.8;\"/>\r\n   </g>\r\n   <g id=\"text_15\">\r\n    <!-- Percentage of hits in function of the binning factor -->\r\n    <defs>\r\n     <path d=\"M 19.671875 64.796875 \r\nL 19.671875 37.40625 \r\nL 32.078125 37.40625 \r\nQ 38.96875 37.40625 42.71875 40.96875 \r\nQ 46.484375 44.53125 46.484375 51.125 \r\nQ 46.484375 57.671875 42.71875 61.234375 \r\nQ 38.96875 64.796875 32.078125 64.796875 \r\nz\r\nM 9.8125 72.90625 \r\nL 32.078125 72.90625 \r\nQ 44.34375 72.90625 50.609375 67.359375 \r\nQ 56.890625 61.8125 56.890625 51.125 \r\nQ 56.890625 40.328125 50.609375 34.8125 \r\nQ 44.34375 29.296875 32.078125 29.296875 \r\nL 19.671875 29.296875 \r\nL 19.671875 0 \r\nL 9.8125 0 \r\nz\r\n\" id=\"DejaVuSans-80\"/>\r\n     <path d=\"M 48.78125 52.59375 \r\nL 48.78125 44.1875 \r\nQ 44.96875 46.296875 41.140625 47.34375 \r\nQ 37.3125 48.390625 33.40625 48.390625 \r\nQ 24.65625 48.390625 19.8125 42.84375 \r\nQ 14.984375 37.3125 14.984375 27.296875 \r\nQ 14.984375 17.28125 19.8125 11.734375 \r\nQ 24.65625 6.203125 33.40625 6.203125 \r\nQ 37.3125 6.203125 41.140625 7.25 \r\nQ 44.96875 8.296875 48.78125 10.40625 \r\nL 48.78125 2.09375 \r\nQ 45.015625 0.34375 40.984375 -0.53125 \r\nQ 36.96875 -1.421875 32.421875 -1.421875 \r\nQ 20.0625 -1.421875 12.78125 6.34375 \r\nQ 5.515625 14.109375 5.515625 27.296875 \r\nQ 5.515625 40.671875 12.859375 48.328125 \r\nQ 20.21875 56 33.015625 56 \r\nQ 37.15625 56 41.109375 55.140625 \r\nQ 45.0625 54.296875 48.78125 52.59375 \r\nz\r\n\" id=\"DejaVuSans-99\"/>\r\n     <path d=\"M 34.28125 27.484375 \r\nQ 23.390625 27.484375 19.1875 25 \r\nQ 14.984375 22.515625 14.984375 16.5 \r\nQ 14.984375 11.71875 18.140625 8.90625 \r\nQ 21.296875 6.109375 26.703125 6.109375 \r\nQ 34.1875 6.109375 38.703125 11.40625 \r\nQ 43.21875 16.703125 43.21875 25.484375 \r\nL 43.21875 27.484375 \r\nz\r\nM 52.203125 31.203125 \r\nL 52.203125 0 \r\nL 43.21875 0 \r\nL 43.21875 8.296875 \r\nQ 40.140625 3.328125 35.546875 0.953125 \r\nQ 30.953125 -1.421875 24.3125 -1.421875 \r\nQ 15.921875 -1.421875 10.953125 3.296875 \r\nQ 6 8.015625 6 15.921875 \r\nQ 6 25.140625 12.171875 29.828125 \r\nQ 18.359375 34.515625 30.609375 34.515625 \r\nL 43.21875 34.515625 \r\nL 43.21875 35.40625 \r\nQ 43.21875 41.609375 39.140625 45 \r\nQ 35.0625 48.390625 27.6875 48.390625 \r\nQ 23 48.390625 18.546875 47.265625 \r\nQ 14.109375 46.140625 10.015625 43.890625 \r\nL 10.015625 52.203125 \r\nQ 14.9375 54.109375 19.578125 55.046875 \r\nQ 24.21875 56 28.609375 56 \r\nQ 40.484375 56 46.34375 49.84375 \r\nQ 52.203125 43.703125 52.203125 31.203125 \r\nz\r\n\" id=\"DejaVuSans-97\"/>\r\n     <path d=\"M 45.40625 27.984375 \r\nQ 45.40625 37.75 41.375 43.109375 \r\nQ 37.359375 48.484375 30.078125 48.484375 \r\nQ 22.859375 48.484375 18.828125 43.109375 \r\nQ 14.796875 37.75 14.796875 27.984375 \r\nQ 14.796875 18.265625 18.828125 12.890625 \r\nQ 22.859375 7.515625 30.078125 7.515625 \r\nQ 37.359375 7.515625 41.375 12.890625 \r\nQ 45.40625 18.265625 45.40625 27.984375 \r\nz\r\nM 54.390625 6.78125 \r\nQ 54.390625 -7.171875 48.1875 -13.984375 \r\nQ 42 -20.796875 29.203125 -20.796875 \r\nQ 24.46875 -20.796875 20.265625 -20.09375 \r\nQ 16.0625 -19.390625 12.109375 -17.921875 \r\nL 12.109375 -9.1875 \r\nQ 16.0625 -11.328125 19.921875 -12.34375 \r\nQ 23.78125 -13.375 27.78125 -13.375 \r\nQ 36.625 -13.375 41.015625 -8.765625 \r\nQ 45.40625 -4.15625 45.40625 5.171875 \r\nL 45.40625 9.625 \r\nQ 42.625 4.78125 38.28125 2.390625 \r\nQ 33.9375 0 27.875 0 \r\nQ 17.828125 0 11.671875 7.65625 \r\nQ 5.515625 15.328125 5.515625 27.984375 \r\nQ 5.515625 40.671875 11.671875 48.328125 \r\nQ 17.828125 56 27.875 56 \r\nQ 33.9375 56 38.28125 53.609375 \r\nQ 42.625 51.21875 45.40625 46.390625 \r\nL 45.40625 54.6875 \r\nL 54.390625 54.6875 \r\nz\r\n\" id=\"DejaVuSans-103\"/>\r\n    </defs>\r\n    <g transform=\"translate(50.361875 16.318125)scale(0.12 -0.12)\">\r\n     <use xlink:href=\"#DejaVuSans-80\"/>\r\n     <use x=\"56.677734\" xlink:href=\"#DejaVuSans-101\"/>\r\n     <use x=\"118.201172\" xlink:href=\"#DejaVuSans-114\"/>\r\n     <use x=\"157.064453\" xlink:href=\"#DejaVuSans-99\"/>\r\n     <use x=\"212.044922\" xlink:href=\"#DejaVuSans-101\"/>\r\n     <use x=\"273.568359\" xlink:href=\"#DejaVuSans-110\"/>\r\n     <use x=\"336.947266\" xlink:href=\"#DejaVuSans-116\"/>\r\n     <use x=\"376.15625\" xlink:href=\"#DejaVuSans-97\"/>\r\n     <use x=\"437.435547\" xlink:href=\"#DejaVuSans-103\"/>\r\n     <use x=\"500.912109\" xlink:href=\"#DejaVuSans-101\"/>\r\n     <use x=\"562.435547\" xlink:href=\"#DejaVuSans-32\"/>\r\n     <use x=\"594.222656\" xlink:href=\"#DejaVuSans-111\"/>\r\n     <use x=\"655.404297\" xlink:href=\"#DejaVuSans-102\"/>\r\n     <use x=\"690.609375\" xlink:href=\"#DejaVuSans-32\"/>\r\n     <use x=\"722.396484\" xlink:href=\"#DejaVuSans-104\"/>\r\n     <use x=\"785.775391\" xlink:href=\"#DejaVuSans-105\"/>\r\n     <use x=\"813.558594\" xlink:href=\"#DejaVuSans-116\"/>\r\n     <use x=\"852.767578\" xlink:href=\"#DejaVuSans-115\"/>\r\n     <use x=\"904.867188\" xlink:href=\"#DejaVuSans-32\"/>\r\n     <use x=\"936.654297\" xlink:href=\"#DejaVuSans-105\"/>\r\n     <use x=\"964.4375\" xlink:href=\"#DejaVuSans-110\"/>\r\n     <use x=\"1027.816406\" xlink:href=\"#DejaVuSans-32\"/>\r\n     <use x=\"1059.603516\" xlink:href=\"#DejaVuSans-102\"/>\r\n     <use x=\"1094.808594\" xlink:href=\"#DejaVuSans-117\"/>\r\n     <use x=\"1158.1875\" xlink:href=\"#DejaVuSans-110\"/>\r\n     <use x=\"1221.566406\" xlink:href=\"#DejaVuSans-99\"/>\r\n     <use x=\"1276.546875\" xlink:href=\"#DejaVuSans-116\"/>\r\n     <use x=\"1315.755859\" xlink:href=\"#DejaVuSans-105\"/>\r\n     <use x=\"1343.539062\" xlink:href=\"#DejaVuSans-111\"/>\r\n     <use x=\"1404.720703\" xlink:href=\"#DejaVuSans-110\"/>\r\n     <use x=\"1468.099609\" xlink:href=\"#DejaVuSans-32\"/>\r\n     <use x=\"1499.886719\" xlink:href=\"#DejaVuSans-111\"/>\r\n     <use x=\"1561.068359\" xlink:href=\"#DejaVuSans-102\"/>\r\n     <use x=\"1596.273438\" xlink:href=\"#DejaVuSans-32\"/>\r\n     <use x=\"1628.060547\" xlink:href=\"#DejaVuSans-116\"/>\r\n     <use x=\"1667.269531\" xlink:href=\"#DejaVuSans-104\"/>\r\n     <use x=\"1730.648438\" xlink:href=\"#DejaVuSans-101\"/>\r\n     <use x=\"1792.171875\" xlink:href=\"#DejaVuSans-32\"/>\r\n     <use x=\"1823.958984\" xlink:href=\"#DejaVuSans-98\"/>\r\n     <use x=\"1887.435547\" xlink:href=\"#DejaVuSans-105\"/>\r\n     <use x=\"1915.21875\" xlink:href=\"#DejaVuSans-110\"/>\r\n     <use x=\"1978.597656\" xlink:href=\"#DejaVuSans-110\"/>\r\n     <use x=\"2041.976562\" xlink:href=\"#DejaVuSans-105\"/>\r\n     <use x=\"2069.759766\" xlink:href=\"#DejaVuSans-110\"/>\r\n     <use x=\"2133.138672\" xlink:href=\"#DejaVuSans-103\"/>\r\n     <use x=\"2196.615234\" xlink:href=\"#DejaVuSans-32\"/>\r\n     <use x=\"2228.402344\" xlink:href=\"#DejaVuSans-102\"/>\r\n     <use x=\"2263.607422\" xlink:href=\"#DejaVuSans-97\"/>\r\n     <use x=\"2324.886719\" xlink:href=\"#DejaVuSans-99\"/>\r\n     <use x=\"2379.867188\" xlink:href=\"#DejaVuSans-116\"/>\r\n     <use x=\"2419.076172\" xlink:href=\"#DejaVuSans-111\"/>\r\n     <use x=\"2480.257812\" xlink:href=\"#DejaVuSans-114\"/>\r\n    </g>\r\n   </g>\r\n  </g>\r\n </g>\r\n <defs>\r\n  <clipPath id=\"p612b3916d2\">\r\n   <rect height=\"217.44\" width=\"334.8\" x=\"34.240625\" y=\"22.318125\"/>\r\n  </clipPath>\r\n </defs>\r\n</svg>\r\n",
      "image/png": "[encoded data removed]"
     },
     "metadata": {
      "needs_background": "light"
     }
    }
   ],
   "source": [
    "from tqdm import tqdm_notebook\n",
    "\n",
    "# Plot the number of \"hits\" based on the binning. That is, the number of measurements falling into the same bin in function of the number of bins\n",
    "bins_num = range(1, 60)\n",
    "merged_df_short_binned = full.copy()\n",
    "hits_vec = []\n",
    "for bin_k in tqdm_notebook(bins_num):\n",
    "    time_stamp_str = \"TIME_STAMP_Bin_\" + str(bin_k)\n",
    "    merged_df_short_binned[time_stamp_str] = round(merged_df_short_binned[\"timestamp\"].dt.total_seconds() * bin_k / 3600).astype(int)\n",
    "    hits_prop = merged_df_short_binned.duplicated(subset=[\"hadm_id\", \"label\", time_stamp_str]).sum() / len(merged_df_short_binned.index) * 100\n",
    "    hits_vec += [hits_prop]\n",
    "plt.plot(bins_num, hits_vec)\n",
    "plt.title(\"Percentage of hits in function of the binning factor\")\n",
    "plt.xlabel(\"Number of bins/hour\")\n",
    "plt.ylabel(\"% of hits\")\n",
    "plt.show()"
   ]
  },
  {
   "source": [
    "## Death tags"
   ],
   "cell_type": "markdown",
   "metadata": {}
  },
  {
   "cell_type": "code",
   "execution_count": 11,
   "metadata": {},
   "outputs": [],
   "source": [
    "hosp_deaths = adm.groupby(\"hadm_id\")[\"hospital_expire_flag\"].unique().astype(int).to_frame().reset_index()\n",
    "hosp_deaths = hosp_deaths.loc[hosp_deaths[\"hadm_id\"].isin(full[\"hadm_id\"])]\n",
    "hosp_deaths.rename(columns={\"hospital_expire_flag\": \"value\"}, inplace=True)\n",
    "hosp_deaths.to_csv(os.path.join(save_path, \"processed\", \"hosp_deaths.csv\"))"
   ]
  },
  {
   "source": [
    "## ICD9 and ICD10"
   ],
   "cell_type": "markdown",
   "metadata": {}
  },
  {
   "cell_type": "code",
   "execution_count": 12,
   "metadata": {},
   "outputs": [
    {
     "output_type": "execute_result",
     "data": {
      "text/plain": [
       "         subject_id   hadm_id  seq_num icd_code  icd_version\n",
       "0          11603789  25552978        3  65801              9\n",
       "1          11603789  25552978        4  64881              9\n",
       "2          11603789  25552978        5  V270               9\n",
       "3          11603789  25552978        1  65221              9\n",
       "4          11603789  25552978        2  64421              9\n",
       "...             ...       ...      ...      ...          ...\n",
       "4677919    13747041  25594844       10  N189              10\n",
       "4677920    13747041  25594844        5  N179              10\n",
       "4677921    13747041  25594844        6  R531              10\n",
       "4677922    13747041  25594844        1  T50901A           10\n",
       "4677923    13747041  25594844        8  R0902             10\n",
       "\n",
       "[4677924 rows x 5 columns]"
      ],
      "text/html": "<div>\n<style scoped>\n    .dataframe tbody tr th:only-of-type {\n        vertical-align: middle;\n    }\n\n    .dataframe tbody tr th {\n        vertical-align: top;\n    }\n\n    .dataframe thead th {\n        text-align: right;\n    }\n</style>\n<table border=\"1\" class=\"dataframe\">\n  <thead>\n    <tr style=\"text-align: right;\">\n      <th></th>\n      <th>subject_id</th>\n      <th>hadm_id</th>\n      <th>seq_num</th>\n      <th>icd_code</th>\n      <th>icd_version</th>\n    </tr>\n  </thead>\n  <tbody>\n    <tr>\n      <th>0</th>\n      <td>11603789</td>\n      <td>25552978</td>\n      <td>3</td>\n      <td>65801</td>\n      <td>9</td>\n    </tr>\n    <tr>\n      <th>1</th>\n      <td>11603789</td>\n      <td>25552978</td>\n      <td>4</td>\n      <td>64881</td>\n      <td>9</td>\n    </tr>\n    <tr>\n      <th>2</th>\n      <td>11603789</td>\n      <td>25552978</td>\n      <td>5</td>\n      <td>V270</td>\n      <td>9</td>\n    </tr>\n    <tr>\n      <th>3</th>\n      <td>11603789</td>\n      <td>25552978</td>\n      <td>1</td>\n      <td>65221</td>\n      <td>9</td>\n    </tr>\n    <tr>\n      <th>4</th>\n      <td>11603789</td>\n      <td>25552978</td>\n      <td>2</td>\n      <td>64421</td>\n      <td>9</td>\n    </tr>\n    <tr>\n      <th>...</th>\n      <td>...</td>\n      <td>...</td>\n      <td>...</td>\n      <td>...</td>\n      <td>...</td>\n    </tr>\n    <tr>\n      <th>4677919</th>\n      <td>13747041</td>\n      <td>25594844</td>\n      <td>10</td>\n      <td>N189</td>\n      <td>10</td>\n    </tr>\n    <tr>\n      <th>4677920</th>\n      <td>13747041</td>\n      <td>25594844</td>\n      <td>5</td>\n      <td>N179</td>\n      <td>10</td>\n    </tr>\n    <tr>\n      <th>4677921</th>\n      <td>13747041</td>\n      <td>25594844</td>\n      <td>6</td>\n      <td>R531</td>\n      <td>10</td>\n    </tr>\n    <tr>\n      <th>4677922</th>\n      <td>13747041</td>\n      <td>25594844</td>\n      <td>1</td>\n      <td>T50901A</td>\n      <td>10</td>\n    </tr>\n    <tr>\n      <th>4677923</th>\n      <td>13747041</td>\n      <td>25594844</td>\n      <td>8</td>\n      <td>R0902</td>\n      <td>10</td>\n    </tr>\n  </tbody>\n</table>\n<p>4677924 rows × 5 columns</p>\n</div>"
     },
     "metadata": {},
     "execution_count": 12
    }
   ],
   "source": [
    "ICD_diag = pd.read_csv(os.path.join(file_path, \"hosp\", \"diagnoses_icd.csv\"))\n",
    "ICD_diag"
   ]
  },
  {
   "cell_type": "code",
   "execution_count": 13,
   "metadata": {},
   "outputs": [
    {
     "output_type": "execute_result",
     "data": {
      "text/plain": [
       "         subject_id   hadm_id  seq_num icd_code  icd_version\n",
       "3          11603789  25552978        1  65221              9\n",
       "6          16809467  29803749        1  64511              9\n",
       "13         11147319  25941345        1  65971              9\n",
       "16         12156531  29321418        1  66411              9\n",
       "22         14528388  29429446        1  65421              9\n",
       "...             ...       ...      ...      ...          ...\n",
       "4677899    12225682  29240982        1  F419              10\n",
       "4677902    15119129  28721266        1  T8132XA           10\n",
       "4677905    19118815  29566765        1  M84422A           10\n",
       "4677911    11735767  27197374        1  P599              10\n",
       "4677922    13747041  25594844        1  T50901A           10\n",
       "\n",
       "[443077 rows x 5 columns]"
      ],
      "text/html": "<div>\n<style scoped>\n    .dataframe tbody tr th:only-of-type {\n        vertical-align: middle;\n    }\n\n    .dataframe tbody tr th {\n        vertical-align: top;\n    }\n\n    .dataframe thead th {\n        text-align: right;\n    }\n</style>\n<table border=\"1\" class=\"dataframe\">\n  <thead>\n    <tr style=\"text-align: right;\">\n      <th></th>\n      <th>subject_id</th>\n      <th>hadm_id</th>\n      <th>seq_num</th>\n      <th>icd_code</th>\n      <th>icd_version</th>\n    </tr>\n  </thead>\n  <tbody>\n    <tr>\n      <th>3</th>\n      <td>11603789</td>\n      <td>25552978</td>\n      <td>1</td>\n      <td>65221</td>\n      <td>9</td>\n    </tr>\n    <tr>\n      <th>6</th>\n      <td>16809467</td>\n      <td>29803749</td>\n      <td>1</td>\n      <td>64511</td>\n      <td>9</td>\n    </tr>\n    <tr>\n      <th>13</th>\n      <td>11147319</td>\n      <td>25941345</td>\n      <td>1</td>\n      <td>65971</td>\n      <td>9</td>\n    </tr>\n    <tr>\n      <th>16</th>\n      <td>12156531</td>\n      <td>29321418</td>\n      <td>1</td>\n      <td>66411</td>\n      <td>9</td>\n    </tr>\n    <tr>\n      <th>22</th>\n      <td>14528388</td>\n      <td>29429446</td>\n      <td>1</td>\n      <td>65421</td>\n      <td>9</td>\n    </tr>\n    <tr>\n      <th>...</th>\n      <td>...</td>\n      <td>...</td>\n      <td>...</td>\n      <td>...</td>\n      <td>...</td>\n    </tr>\n    <tr>\n      <th>4677899</th>\n      <td>12225682</td>\n      <td>29240982</td>\n      <td>1</td>\n      <td>F419</td>\n      <td>10</td>\n    </tr>\n    <tr>\n      <th>4677902</th>\n      <td>15119129</td>\n      <td>28721266</td>\n      <td>1</td>\n      <td>T8132XA</td>\n      <td>10</td>\n    </tr>\n    <tr>\n      <th>4677905</th>\n      <td>19118815</td>\n      <td>29566765</td>\n      <td>1</td>\n      <td>M84422A</td>\n      <td>10</td>\n    </tr>\n    <tr>\n      <th>4677911</th>\n      <td>11735767</td>\n      <td>27197374</td>\n      <td>1</td>\n      <td>P599</td>\n      <td>10</td>\n    </tr>\n    <tr>\n      <th>4677922</th>\n      <td>13747041</td>\n      <td>25594844</td>\n      <td>1</td>\n      <td>T50901A</td>\n      <td>10</td>\n    </tr>\n  </tbody>\n</table>\n<p>443077 rows × 5 columns</p>\n</div>"
     },
     "metadata": {},
     "execution_count": 13
    }
   ],
   "source": [
    "# Main diagnoses\n",
    "ICD_diag = ICD_diag.loc[(ICD_diag[\"seq_num\"] == 1)]\n",
    "ICD_diag"
   ]
  },
  {
   "cell_type": "code",
   "execution_count": 14,
   "metadata": {},
   "outputs": [],
   "source": [
    "full = pd.merge(full, ICD_diag[[\"hadm_id\", \"icd_code\"]], on=\"hadm_id\")"
   ]
  },
  {
   "cell_type": "code",
   "execution_count": 15,
   "metadata": {},
   "outputs": [],
   "source": [
    "# Only select the first 3 digits of each ICD9 code.\n",
    "full[\"icd_short\"] = full[\"icd_code\"].astype(str).str[:3]\n",
    "# Check that all codes are 3 digits long.\n",
    "str_len = full[\"icd_short\"].str.len()\n",
    "assert(str_len.loc[str_len!=3].count() == 0)"
   ]
  },
  {
   "cell_type": "code",
   "execution_count": 16,
   "metadata": {},
   "outputs": [
    {
     "output_type": "execute_result",
     "data": {
      "text/plain": [
       "786"
      ]
     },
     "metadata": {},
     "execution_count": 16
    }
   ],
   "source": [
    "full[\"icd_short\"].nunique()\n",
    "# # Finer encoding (3 digits)\n",
    "# hot_encodings = pd.get_dummies(complete_tensor[\"icd_short\"])\n",
    "# full[hot_encodings.columns] = hot_encodings"
   ]
  },
  {
   "source": [
    "## Train-Validation-Test split"
   ],
   "cell_type": "markdown",
   "metadata": {}
  },
  {
   "cell_type": "code",
   "execution_count": 17,
   "metadata": {},
   "outputs": [],
   "source": [
    "from sklearn.model_selection import train_test_split\n",
    "\n",
    "# TODO[jacob]: consider stratification\n",
    "def split_sets(df, test_size=0.1):\n",
    "    df_1, df_2 = train_test_split(df, test_size=test_size)\n",
    "\n",
    "    # Make sure that patients of the test set have instances in the training set. (same with labels but this should be nearly certain)\n",
    "    assert(len(df_2.loc[~df_2[\"hadm_id\"].isin(df_1[\"hadm_id\"])].index) == 0)\n",
    "    assert(len(df_2.loc[~df_2[\"label\"].isin(df_1[\"label\"])].index) == 0)\n",
    "\n",
    "    return df_1, df_2"
   ]
  },
  {
   "cell_type": "code",
   "execution_count": 20,
   "metadata": {},
   "outputs": [],
   "source": [
    "df_train, df_test = split_sets(full, test_size=0.1)\n",
    "\n",
    "df_train_1, df_valid_1 = split_sets(df_train, test_size=0.2)\n",
    "df_train_2, df_valid_2 = split_sets(df_train, test_size=0.2)\n",
    "df_train_3, df_valid_3 = split_sets(df_train, test_size=0.2)\n",
    "df_train_4, df_valid_4 = split_sets(df_train, test_size=0.2)\n",
    "df_train_5, df_valid_5 = split_sets(df_train, test_size=0.2)"
   ]
  },
  {
   "cell_type": "code",
   "execution_count": 21,
   "metadata": {},
   "outputs": [],
   "source": [
    "# Save\n",
    "full.to_csv(os.path.join(save_path, \"processed\", \"full.csv\"))\n",
    "\n",
    "df_train_1.to_csv(os.path.join(save_path, \"processed\", \"folds\", \"df_train_1.csv\"))\n",
    "df_valid_1.to_csv(os.path.join(save_path, \"processed\", \"folds\", \"df_valid_1.csv\"))\n",
    "df_train_2.to_csv(os.path.join(save_path, \"processed\", \"folds\", \"df_train_2.csv\"))\n",
    "df_valid_2.to_csv(os.path.join(save_path, \"processed\", \"folds\", \"df_valid_2.csv\"))\n",
    "df_train_3.to_csv(os.path.join(save_path, \"processed\", \"folds\", \"df_train_3.csv\"))\n",
    "df_valid_3.to_csv(os.path.join(save_path, \"processed\", \"folds\", \"df_valid_3.csv\"))\n",
    "df_train_4.to_csv(os.path.join(save_path, \"processed\", \"folds\", \"df_train_4.csv\"))\n",
    "df_valid_4.to_csv(os.path.join(save_path, \"processed\", \"folds\", \"df_valid_4.csv\"))\n",
    "df_train_5.to_csv(os.path.join(save_path, \"processed\", \"folds\", \"df_train_5.csv\"))\n",
    "df_valid_5.to_csv(os.path.join(save_path, \"processed\", \"folds\", \"df_valid_5.csv\"))\n",
    "\n",
    "df_train_1.to_csv(os.path.join(save_path, \"processed\", \"df_test.csv\"))"
   ]
  },
  {
   "cell_type": "code",
   "execution_count": null,
   "metadata": {},
   "outputs": [],
   "source": []
  }
 ],
 "metadata": {
  "kernelspec": {
   "name": "python3",
   "display_name": "Python 3.7.7 64-bit",
   "metadata": {
    "interpreter": {
     "hash": "6b3eb814270ed2accf938c8313475bfe9e09472ef09b9998fe7c4333e8feb6aa"
    }
   }
  },
  "language_info": {
   "codemirror_mode": {
    "name": "ipython",
    "version": 3
   },
   "file_extension": ".py",
   "mimetype": "text/x-python",
   "name": "python",
   "nbconvert_exporter": "python",
   "pygments_lexer": "ipython3",
   "version": "3.7.7-final"
  }
 },
 "nbformat": 4,
 "nbformat_minor": 2
}